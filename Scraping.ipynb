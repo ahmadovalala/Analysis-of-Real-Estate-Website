{
 "cells": [
  {
   "cell_type": "code",
   "execution_count": 1,
   "id": "f8cfac5f-f99c-4286-9972-3f58254814a2",
   "metadata": {},
   "outputs": [
    {
     "name": "stdout",
     "output_type": "stream",
     "text": [
      "Requirement already satisfied: cloudscraper in /opt/anaconda3/lib/python3.11/site-packages (1.2.71)\n",
      "Requirement already satisfied: pyparsing>=2.4.7 in /opt/anaconda3/lib/python3.11/site-packages (from cloudscraper) (3.0.9)\n",
      "Requirement already satisfied: requests>=2.9.2 in /opt/anaconda3/lib/python3.11/site-packages (from cloudscraper) (2.31.0)\n",
      "Requirement already satisfied: requests-toolbelt>=0.9.1 in /opt/anaconda3/lib/python3.11/site-packages (from cloudscraper) (1.0.0)\n",
      "Requirement already satisfied: charset-normalizer<4,>=2 in /opt/anaconda3/lib/python3.11/site-packages (from requests>=2.9.2->cloudscraper) (2.0.4)\n",
      "Requirement already satisfied: idna<4,>=2.5 in /opt/anaconda3/lib/python3.11/site-packages (from requests>=2.9.2->cloudscraper) (3.4)\n",
      "Requirement already satisfied: urllib3<3,>=1.21.1 in /opt/anaconda3/lib/python3.11/site-packages (from requests>=2.9.2->cloudscraper) (2.0.7)\n",
      "Requirement already satisfied: certifi>=2017.4.17 in /opt/anaconda3/lib/python3.11/site-packages (from requests>=2.9.2->cloudscraper) (2024.2.2)\n",
      "Requirement already satisfied: html5lib in /opt/anaconda3/lib/python3.11/site-packages (1.1)\n",
      "Requirement already satisfied: six>=1.9 in /opt/anaconda3/lib/python3.11/site-packages (from html5lib) (1.16.0)\n",
      "Requirement already satisfied: webencodings in /opt/anaconda3/lib/python3.11/site-packages (from html5lib) (0.5.1)\n"
     ]
    }
   ],
   "source": [
    "!pip install cloudscraper\n",
    "!pip install html5lib"
   ]
  },
  {
   "cell_type": "code",
   "execution_count": 2,
   "id": "cbb7d0d8-454a-4375-ba22-7c4127748e47",
   "metadata": {},
   "outputs": [
    {
     "data": {
      "text/plain": [
       "<pandas._config.config.option_context at 0x108028750>"
      ]
     },
     "execution_count": 2,
     "metadata": {},
     "output_type": "execute_result"
    }
   ],
   "source": [
    "import pandas as pd\n",
    "import numpy as np\n",
    "import requests\n",
    "import cloudscraper\n",
    "from bs4 import BeautifulSoup\n",
    "import matplotlib.pyplot as plt \n",
    "import re\n",
    "import seaborn as sns\n",
    "import matplotlib.dates as mdates\n",
    "import matplotlib.ticker as ticker\n",
    "import plotly.express as px\n",
    "from ipywidgets import interact, widgets\n",
    "from IPython.display import display\n",
    "pd.option_context('mode.use_inf_as_na', True)"
   ]
  },
  {
   "cell_type": "markdown",
   "id": "c3e7c310-51c8-4ea3-a842-d9a2fc7d546c",
   "metadata": {},
   "source": [
    " ### Library Installation \n",
    "To enable scraping of websites with anti-bot mechanisms, the `cloudscraper` library is installed. This library is particularly useful for bypassing Cloudflare protection and retrieving webpage content. The result is a successfull. The retrieved HTML content is parsed using the BeautifulSoup library."
   ]
  },
  {
   "cell_type": "code",
   "execution_count": 3,
   "id": "de6c1362-0067-4569-8231-90f5863e1e7f",
   "metadata": {},
   "outputs": [],
   "source": [
    "def scraping(url):\n",
    "    scraper = cloudscraper.create_scraper()\n",
    "    data = scraper.get(url).text\n",
    "    soup=BeautifulSoup(data, \"html.parser\")\n",
    "    divs= soup.find_all('div', class_='items-i')\n",
    "    return divs"
   ]
  },
  {
   "cell_type": "markdown",
   "id": "15613603-178f-49cd-95d6-2e5afb0072a8",
   "metadata": {},
   "source": [
    "### Extracting data\n",
    "\n",
    "This function processes the HTML content retrieved by the scraping function to extract detailed information about real estate listings. Key steps include:\n",
    "\n",
    "- Extracting attributes like price, currency, location, number of rooms, floor number, and apartment area using specific HTML tags and classes.\n",
    "- Parsing repair level and document status conditionally based on the presence of relevant HTML elements.\n",
    "- Extracting and converting date information from image URLs.\n",
    "- Organizing the extracted information into a structured pandas DataFrame.\n",
    "  \n",
    "The result is a well-structured dataset containing all the relevant information from the webpage for further analysis.\n",
    "\n"
   ]
  },
  {
   "cell_type": "code",
   "execution_count": 4,
   "id": "62faf859-2a59-4ef1-a426-db8740fe71bb",
   "metadata": {},
   "outputs": [],
   "source": [
    "def extract_data(divs):\n",
    "    all_data = []\n",
    "    for div in divs:\n",
    "        price=div.select_one(\".price-val\").text\n",
    "        currency=div.select_one(\".price-cur\").text\n",
    "        location=div.select_one(\".location\").text\n",
    "    \n",
    "        list_items = div.find_all('li')\n",
    "        number_of_rooms = list_items[0].get_text(strip=True)\n",
    "        area_of_apartment = list_items[1].get_text(strip=True)\n",
    "        floor_number = list_items[2].get_text(strip=True)\n",
    "\n",
    "\n",
    "        repair_div = div.find('div', class_='repair')\n",
    "        if repair_div:\n",
    "            repair_level = repair_div.find('span').get_text(strip=True)\n",
    "        else:\n",
    "            repair_level = 'Təmirsiz'\n",
    "\n",
    "\n",
    "        bill_of_sale_div = div.find('div', class_='bill_of_sale')\n",
    "        if bill_of_sale_div:\n",
    "            offical_document_status = bill_of_sale_div.find('span').get_text(strip=True)\n",
    "        else:\n",
    "            offical_document_status = 'Müqavilə'\n",
    "        \n",
    "    \n",
    "\n",
    "        img_items = div.find_all('img',  attrs={'class':'lazyload'})\n",
    "\n",
    "    \n",
    "        for image in img_items:\n",
    "            \n",
    "            decoded_url=image['data-src'].replace('%2F', '/')\n",
    "            parts = decoded_url.split('/')\n",
    "            date_string = ''.join(parts[5:8])\n",
    "            date = pd.to_datetime(date_string, format='%Y%m%d')\n",
    "            \n",
    "        \n",
    "        all_data.append(\n",
    "             {\n",
    "\n",
    "                \"Location\": location,\n",
    "                \"Number of rooms\": number_of_rooms,\n",
    "                \"Floor number\": floor_number,\n",
    "                \"Area of apartment\": area_of_apartment,\n",
    "                \"Price\": price,\n",
    "                \"Currency\": currency,\n",
    "                \"Date\": date,\n",
    "                \"Condition\": repair_level,\n",
    "                \"Document status\":offical_document_status\n",
    "            \n",
    "             }\n",
    "         )\n",
    "    \n",
    "\n",
    "    \n",
    "    df = pd.DataFrame(all_data)\n",
    "    return df"
   ]
  },
  {
   "cell_type": "markdown",
   "id": "35348d26-e7d3-42e7-8d10-c07d504ad42e",
   "metadata": {},
   "source": [
    "### Obtaining data frame\n",
    "This code dynamically scrapes multiple pages of real estate listings by constructing URLs with a page number placeholder (%s). For each page, the scraping function fetches HTML content, and extract_data extracts relevant information into a DataFrame. All extracted DataFrames are appended to a list, which is then merged into a single DataFrame using pd.concat for efficient combination and reset indexing. Finally, duplicates are removed from the combined dataset with drop_duplicates(), resulting in a clean, unified DataFrame of all listings."
   ]
  },
  {
   "cell_type": "code",
   "execution_count": 5,
   "id": "a398639e-ce20-4756-852a-e8111e1a6973",
   "metadata": {},
   "outputs": [],
   "source": [
    "base_url='https://bina.az/baki/alqi-satqi/menziller/yeni-tikili?page=%s&sorting=bumped_at+desc'\n",
    "all_df=[]\n",
    "for page in range(1, 1384):\n",
    "    url =base_url % page \n",
    "    scraped_data = scraping(url)\n",
    "    extracted_data= extract_data(scraped_data)\n",
    "    all_df.append(extracted_data)\n",
    "    final_df = pd.concat(all_df, ignore_index=True)\n",
    "    final_df.drop_duplicates()"
   ]
  },
  {
   "cell_type": "code",
   "execution_count": 6,
   "id": "71c7a688-b769-4bc2-9194-08fba8cb1fac",
   "metadata": {},
   "outputs": [
    {
     "data": {
      "text/html": [
       "<div>\n",
       "<style scoped>\n",
       "    .dataframe tbody tr th:only-of-type {\n",
       "        vertical-align: middle;\n",
       "    }\n",
       "\n",
       "    .dataframe tbody tr th {\n",
       "        vertical-align: top;\n",
       "    }\n",
       "\n",
       "    .dataframe thead th {\n",
       "        text-align: right;\n",
       "    }\n",
       "</style>\n",
       "<table border=\"1\" class=\"dataframe\">\n",
       "  <thead>\n",
       "    <tr style=\"text-align: right;\">\n",
       "      <th></th>\n",
       "      <th>Location</th>\n",
       "      <th>Number of rooms</th>\n",
       "      <th>Floor number</th>\n",
       "      <th>Area of apartment</th>\n",
       "      <th>Price</th>\n",
       "      <th>Currency</th>\n",
       "      <th>Date</th>\n",
       "      <th>Condition</th>\n",
       "      <th>Document status</th>\n",
       "    </tr>\n",
       "  </thead>\n",
       "  <tbody>\n",
       "    <tr>\n",
       "      <th>0</th>\n",
       "      <td>Nardaran q.</td>\n",
       "      <td>3 otaqlı</td>\n",
       "      <td>3/4 mərtəbə</td>\n",
       "      <td>110 m²</td>\n",
       "      <td>375 000</td>\n",
       "      <td>AZN</td>\n",
       "      <td>2024-02-18</td>\n",
       "      <td>Təmirsiz</td>\n",
       "      <td>Çıxarış var</td>\n",
       "    </tr>\n",
       "    <tr>\n",
       "      <th>1</th>\n",
       "      <td>Həzi Aslanov m.</td>\n",
       "      <td>2 otaqlı</td>\n",
       "      <td>2/19 mərtəbə</td>\n",
       "      <td>85 m²</td>\n",
       "      <td>198 000</td>\n",
       "      <td>AZN</td>\n",
       "      <td>2024-11-19</td>\n",
       "      <td>Təmirli</td>\n",
       "      <td>Çıxarış var</td>\n",
       "    </tr>\n",
       "    <tr>\n",
       "      <th>2</th>\n",
       "      <td>Nardaran q.</td>\n",
       "      <td>2 otaqlı</td>\n",
       "      <td>4/7 mərtəbə</td>\n",
       "      <td>93.7 m²</td>\n",
       "      <td>446 012</td>\n",
       "      <td>AZN</td>\n",
       "      <td>2024-07-04</td>\n",
       "      <td>Təmirli</td>\n",
       "      <td>Müqavilə</td>\n",
       "    </tr>\n",
       "    <tr>\n",
       "      <th>3</th>\n",
       "      <td>İçəri Şəhər m.</td>\n",
       "      <td>8 otaqlı</td>\n",
       "      <td>11/14 mərtəbə</td>\n",
       "      <td>584 m²</td>\n",
       "      <td>1 985 000</td>\n",
       "      <td>AZN</td>\n",
       "      <td>2024-10-24</td>\n",
       "      <td>Təmirsiz</td>\n",
       "      <td>Çıxarış var</td>\n",
       "    </tr>\n",
       "    <tr>\n",
       "      <th>4</th>\n",
       "      <td>Nəsimi r.</td>\n",
       "      <td>4 otaqlı</td>\n",
       "      <td>4/20 mərtəbə</td>\n",
       "      <td>191 m²</td>\n",
       "      <td>440 000</td>\n",
       "      <td>AZN</td>\n",
       "      <td>2024-11-04</td>\n",
       "      <td>Təmirsiz</td>\n",
       "      <td>Müqavilə</td>\n",
       "    </tr>\n",
       "    <tr>\n",
       "      <th>...</th>\n",
       "      <td>...</td>\n",
       "      <td>...</td>\n",
       "      <td>...</td>\n",
       "      <td>...</td>\n",
       "      <td>...</td>\n",
       "      <td>...</td>\n",
       "      <td>...</td>\n",
       "      <td>...</td>\n",
       "      <td>...</td>\n",
       "    </tr>\n",
       "    <tr>\n",
       "      <th>25167</th>\n",
       "      <td>Nardaran q.</td>\n",
       "      <td>2 otaqlı</td>\n",
       "      <td>2/7 mərtəbə</td>\n",
       "      <td>60 m²</td>\n",
       "      <td>223 000</td>\n",
       "      <td>AZN</td>\n",
       "      <td>2024-08-26</td>\n",
       "      <td>Təmirsiz</td>\n",
       "      <td>Müqavilə</td>\n",
       "    </tr>\n",
       "    <tr>\n",
       "      <th>25168</th>\n",
       "      <td>20 Yanvar m.</td>\n",
       "      <td>3 otaqlı</td>\n",
       "      <td>16/18 mərtəbə</td>\n",
       "      <td>135 m²</td>\n",
       "      <td>270 000</td>\n",
       "      <td>AZN</td>\n",
       "      <td>2024-09-25</td>\n",
       "      <td>Təmirli</td>\n",
       "      <td>Çıxarış var</td>\n",
       "    </tr>\n",
       "    <tr>\n",
       "      <th>25169</th>\n",
       "      <td>20 Yanvar m.</td>\n",
       "      <td>3 otaqlı</td>\n",
       "      <td>7/16 mərtəbə</td>\n",
       "      <td>110 m²</td>\n",
       "      <td>258 000</td>\n",
       "      <td>AZN</td>\n",
       "      <td>2024-10-17</td>\n",
       "      <td>Təmirli</td>\n",
       "      <td>Çıxarış var</td>\n",
       "    </tr>\n",
       "    <tr>\n",
       "      <th>25170</th>\n",
       "      <td>Yasamal r.</td>\n",
       "      <td>3 otaqlı</td>\n",
       "      <td>21/22 mərtəbə</td>\n",
       "      <td>103 m²</td>\n",
       "      <td>144 900</td>\n",
       "      <td>AZN</td>\n",
       "      <td>2024-10-04</td>\n",
       "      <td>Təmirli</td>\n",
       "      <td>Çıxarış var</td>\n",
       "    </tr>\n",
       "    <tr>\n",
       "      <th>25171</th>\n",
       "      <td>Həzi Aslanov m.</td>\n",
       "      <td>2 otaqlı</td>\n",
       "      <td>7/17 mərtəbə</td>\n",
       "      <td>62 m²</td>\n",
       "      <td>130 000</td>\n",
       "      <td>AZN</td>\n",
       "      <td>2024-10-11</td>\n",
       "      <td>Təmirli</td>\n",
       "      <td>Çıxarış var</td>\n",
       "    </tr>\n",
       "  </tbody>\n",
       "</table>\n",
       "<p>25172 rows × 9 columns</p>\n",
       "</div>"
      ],
      "text/plain": [
       "              Location Number of rooms   Floor number Area of apartment  \\\n",
       "0          Nardaran q.        3 otaqlı    3/4 mərtəbə            110 m²   \n",
       "1      Həzi Aslanov m.        2 otaqlı   2/19 mərtəbə             85 m²   \n",
       "2          Nardaran q.        2 otaqlı    4/7 mərtəbə           93.7 m²   \n",
       "3       İçəri Şəhər m.        8 otaqlı  11/14 mərtəbə            584 m²   \n",
       "4            Nəsimi r.        4 otaqlı   4/20 mərtəbə            191 m²   \n",
       "...                ...             ...            ...               ...   \n",
       "25167      Nardaran q.        2 otaqlı    2/7 mərtəbə             60 m²   \n",
       "25168     20 Yanvar m.        3 otaqlı  16/18 mərtəbə            135 m²   \n",
       "25169     20 Yanvar m.        3 otaqlı   7/16 mərtəbə            110 m²   \n",
       "25170       Yasamal r.        3 otaqlı  21/22 mərtəbə            103 m²   \n",
       "25171  Həzi Aslanov m.        2 otaqlı   7/17 mərtəbə             62 m²   \n",
       "\n",
       "           Price Currency       Date Condition Document status  \n",
       "0        375 000      AZN 2024-02-18  Təmirsiz     Çıxarış var  \n",
       "1        198 000      AZN 2024-11-19   Təmirli     Çıxarış var  \n",
       "2        446 012      AZN 2024-07-04   Təmirli        Müqavilə  \n",
       "3      1 985 000      AZN 2024-10-24  Təmirsiz     Çıxarış var  \n",
       "4        440 000      AZN 2024-11-04  Təmirsiz        Müqavilə  \n",
       "...          ...      ...        ...       ...             ...  \n",
       "25167    223 000      AZN 2024-08-26  Təmirsiz        Müqavilə  \n",
       "25168    270 000      AZN 2024-09-25   Təmirli     Çıxarış var  \n",
       "25169    258 000      AZN 2024-10-17   Təmirli     Çıxarış var  \n",
       "25170    144 900      AZN 2024-10-04   Təmirli     Çıxarış var  \n",
       "25171    130 000      AZN 2024-10-11   Təmirli     Çıxarış var  \n",
       "\n",
       "[25172 rows x 9 columns]"
      ]
     },
     "execution_count": 6,
     "metadata": {},
     "output_type": "execute_result"
    }
   ],
   "source": [
    "#final_df['Area of apartment'].isna()\n",
    "final_df\n"
   ]
  },
  {
   "cell_type": "markdown",
   "id": "e3f30c65-be41-4752-bf2d-c1231b4b6b2e",
   "metadata": {},
   "source": [
    "Dataframe is saved as a csv file.\n"
   ]
  },
  {
   "cell_type": "code",
   "execution_count": 7,
   "id": "b4736c07-bcea-4b9c-b380-2a5cd71c12c8",
   "metadata": {},
   "outputs": [],
   "source": [
    "final_df.to_csv('bina_az.csv')"
   ]
  },
  {
   "cell_type": "markdown",
   "id": "6a1d527a-2e6b-4f3f-8e2e-df00b4c79e0f",
   "metadata": {},
   "source": [
    "### Data cleaning\n",
    "\n",
    "Parsing and Extracting Relevant Information:\n",
    "\n",
    "- Using custom functions to extract specific values (e.g., numeric values or text units) from raw data fields.\n",
    "- Removing unnecessary parts of text (like \"m²\" or extra characters) to keep only meaningful information.\n",
    "  \n",
    "### Data Transformation:\n",
    "\n",
    "- Converting data into appropriate types (e.g., converting strings to integers or floats for numerical analysis).\n",
    "- Structuring data into a clean, consistent format, like separating units and values into different columns.\n",
    "\n",
    "  \n",
    "Column Reorganization:\n",
    "\n",
    "- Arranging columns in a logical order to improve readability and usability.\n"
   ]
  },
  {
   "cell_type": "code",
   "execution_count": 8,
   "id": "6fdf6db1-6b4d-4ce1-9faa-2503964d4634",
   "metadata": {},
   "outputs": [],
   "source": [
    "\n",
    "def extract_unit(data):\n",
    "    unit=re.findall(r\"[a-zA-Z²³]+\", data)\n",
    "    return unit[0]\n",
    "\n",
    "def extract_value(data):\n",
    "    value= re.findall(r\"[-+]?\\d*\\.\\d+|\\d+\", data)\n",
    "    return float(value[0])\n",
    "\n",
    "def extract_floor_number(data):\n",
    "    floor_number = re.findall(r\"\\b\\d+/\\d+\\b\", data)\n",
    "    return floor_number[0] \n",
    "\n",
    "\n",
    "final_df['Unit']= final_df['Area of apartment'].apply(extract_unit)\n",
    "final_df['Area']= final_df['Area of apartment'].apply(extract_value)\n",
    "final_df['Floor']= final_df['Floor number'].apply(extract_floor_number)\n",
    "final_df['Room number']=final_df['Number of rooms'].apply(extract_value).astype(int)\n",
    "final_df=final_df[['Location', 'Room number', 'Floor', 'Area', 'Unit', 'Price', 'Currency','Date','Condition','Document status' ,'Area of apartment', 'Number of rooms']]\n"
   ]
  },
  {
   "cell_type": "code",
   "execution_count": 9,
   "id": "c43138d9-549f-4f04-8158-c87d69a749ea",
   "metadata": {},
   "outputs": [
    {
     "data": {
      "text/html": [
       "<div>\n",
       "<style scoped>\n",
       "    .dataframe tbody tr th:only-of-type {\n",
       "        vertical-align: middle;\n",
       "    }\n",
       "\n",
       "    .dataframe tbody tr th {\n",
       "        vertical-align: top;\n",
       "    }\n",
       "\n",
       "    .dataframe thead th {\n",
       "        text-align: right;\n",
       "    }\n",
       "</style>\n",
       "<table border=\"1\" class=\"dataframe\">\n",
       "  <thead>\n",
       "    <tr style=\"text-align: right;\">\n",
       "      <th></th>\n",
       "      <th>Location</th>\n",
       "      <th>Room number</th>\n",
       "      <th>Floor</th>\n",
       "      <th>Area</th>\n",
       "      <th>Unit</th>\n",
       "      <th>Price</th>\n",
       "      <th>Currency</th>\n",
       "      <th>Date</th>\n",
       "      <th>Condition</th>\n",
       "      <th>Document status</th>\n",
       "      <th>Area of apartment</th>\n",
       "      <th>Number of rooms</th>\n",
       "    </tr>\n",
       "  </thead>\n",
       "  <tbody>\n",
       "    <tr>\n",
       "      <th>0</th>\n",
       "      <td>Nardaran q.</td>\n",
       "      <td>3</td>\n",
       "      <td>3/4</td>\n",
       "      <td>110.0</td>\n",
       "      <td>m²</td>\n",
       "      <td>375 000</td>\n",
       "      <td>AZN</td>\n",
       "      <td>2024-02-18</td>\n",
       "      <td>Təmirsiz</td>\n",
       "      <td>Çıxarış var</td>\n",
       "      <td>110 m²</td>\n",
       "      <td>3 otaqlı</td>\n",
       "    </tr>\n",
       "    <tr>\n",
       "      <th>1</th>\n",
       "      <td>Həzi Aslanov m.</td>\n",
       "      <td>2</td>\n",
       "      <td>2/19</td>\n",
       "      <td>85.0</td>\n",
       "      <td>m²</td>\n",
       "      <td>198 000</td>\n",
       "      <td>AZN</td>\n",
       "      <td>2024-11-19</td>\n",
       "      <td>Təmirli</td>\n",
       "      <td>Çıxarış var</td>\n",
       "      <td>85 m²</td>\n",
       "      <td>2 otaqlı</td>\n",
       "    </tr>\n",
       "    <tr>\n",
       "      <th>2</th>\n",
       "      <td>Nardaran q.</td>\n",
       "      <td>2</td>\n",
       "      <td>4/7</td>\n",
       "      <td>93.7</td>\n",
       "      <td>m²</td>\n",
       "      <td>446 012</td>\n",
       "      <td>AZN</td>\n",
       "      <td>2024-07-04</td>\n",
       "      <td>Təmirli</td>\n",
       "      <td>Müqavilə</td>\n",
       "      <td>93.7 m²</td>\n",
       "      <td>2 otaqlı</td>\n",
       "    </tr>\n",
       "    <tr>\n",
       "      <th>3</th>\n",
       "      <td>İçəri Şəhər m.</td>\n",
       "      <td>8</td>\n",
       "      <td>11/14</td>\n",
       "      <td>584.0</td>\n",
       "      <td>m²</td>\n",
       "      <td>1 985 000</td>\n",
       "      <td>AZN</td>\n",
       "      <td>2024-10-24</td>\n",
       "      <td>Təmirsiz</td>\n",
       "      <td>Çıxarış var</td>\n",
       "      <td>584 m²</td>\n",
       "      <td>8 otaqlı</td>\n",
       "    </tr>\n",
       "    <tr>\n",
       "      <th>4</th>\n",
       "      <td>Nəsimi r.</td>\n",
       "      <td>4</td>\n",
       "      <td>4/20</td>\n",
       "      <td>191.0</td>\n",
       "      <td>m²</td>\n",
       "      <td>440 000</td>\n",
       "      <td>AZN</td>\n",
       "      <td>2024-11-04</td>\n",
       "      <td>Təmirsiz</td>\n",
       "      <td>Müqavilə</td>\n",
       "      <td>191 m²</td>\n",
       "      <td>4 otaqlı</td>\n",
       "    </tr>\n",
       "    <tr>\n",
       "      <th>5</th>\n",
       "      <td>Nizami m.</td>\n",
       "      <td>4</td>\n",
       "      <td>10/16</td>\n",
       "      <td>220.0</td>\n",
       "      <td>m²</td>\n",
       "      <td>679 800</td>\n",
       "      <td>AZN</td>\n",
       "      <td>2024-11-04</td>\n",
       "      <td>Təmirsiz</td>\n",
       "      <td>Müqavilə</td>\n",
       "      <td>220 m²</td>\n",
       "      <td>4 otaqlı</td>\n",
       "    </tr>\n",
       "    <tr>\n",
       "      <th>6</th>\n",
       "      <td>Hövsan q.</td>\n",
       "      <td>4</td>\n",
       "      <td>4/9</td>\n",
       "      <td>100.0</td>\n",
       "      <td>m²</td>\n",
       "      <td>118 000</td>\n",
       "      <td>AZN</td>\n",
       "      <td>2024-08-24</td>\n",
       "      <td>Təmirli</td>\n",
       "      <td>Çıxarış var</td>\n",
       "      <td>100 m²</td>\n",
       "      <td>4 otaqlı</td>\n",
       "    </tr>\n",
       "    <tr>\n",
       "      <th>7</th>\n",
       "      <td>Hövsan q.</td>\n",
       "      <td>2</td>\n",
       "      <td>4/7</td>\n",
       "      <td>52.0</td>\n",
       "      <td>m²</td>\n",
       "      <td>87 000</td>\n",
       "      <td>AZN</td>\n",
       "      <td>2024-11-23</td>\n",
       "      <td>Təmirli</td>\n",
       "      <td>Çıxarış var</td>\n",
       "      <td>52 m²</td>\n",
       "      <td>2 otaqlı</td>\n",
       "    </tr>\n",
       "    <tr>\n",
       "      <th>8</th>\n",
       "      <td>Nəsimi r.</td>\n",
       "      <td>2</td>\n",
       "      <td>6/12</td>\n",
       "      <td>75.0</td>\n",
       "      <td>m²</td>\n",
       "      <td>189 000</td>\n",
       "      <td>AZN</td>\n",
       "      <td>2024-06-04</td>\n",
       "      <td>Təmirsiz</td>\n",
       "      <td>Çıxarış var</td>\n",
       "      <td>75 m²</td>\n",
       "      <td>2 otaqlı</td>\n",
       "    </tr>\n",
       "    <tr>\n",
       "      <th>9</th>\n",
       "      <td>20 Yanvar m.</td>\n",
       "      <td>3</td>\n",
       "      <td>10/14</td>\n",
       "      <td>105.0</td>\n",
       "      <td>m²</td>\n",
       "      <td>256 500</td>\n",
       "      <td>AZN</td>\n",
       "      <td>2024-04-30</td>\n",
       "      <td>Təmirli</td>\n",
       "      <td>Müqavilə</td>\n",
       "      <td>105 m²</td>\n",
       "      <td>3 otaqlı</td>\n",
       "    </tr>\n",
       "    <tr>\n",
       "      <th>10</th>\n",
       "      <td>Gənclik m.</td>\n",
       "      <td>2</td>\n",
       "      <td>6/16</td>\n",
       "      <td>66.0</td>\n",
       "      <td>m²</td>\n",
       "      <td>210 000</td>\n",
       "      <td>AZN</td>\n",
       "      <td>2024-10-05</td>\n",
       "      <td>Təmirli</td>\n",
       "      <td>Çıxarış var</td>\n",
       "      <td>66 m²</td>\n",
       "      <td>2 otaqlı</td>\n",
       "    </tr>\n",
       "    <tr>\n",
       "      <th>11</th>\n",
       "      <td>Azadlıq Prospekti m.</td>\n",
       "      <td>2</td>\n",
       "      <td>10/16</td>\n",
       "      <td>65.0</td>\n",
       "      <td>m²</td>\n",
       "      <td>160 000</td>\n",
       "      <td>AZN</td>\n",
       "      <td>2024-11-12</td>\n",
       "      <td>Təmirli</td>\n",
       "      <td>Çıxarış var</td>\n",
       "      <td>65 m²</td>\n",
       "      <td>2 otaqlı</td>\n",
       "    </tr>\n",
       "    <tr>\n",
       "      <th>12</th>\n",
       "      <td>Nizami m.</td>\n",
       "      <td>1</td>\n",
       "      <td>13/16</td>\n",
       "      <td>72.0</td>\n",
       "      <td>m²</td>\n",
       "      <td>228 240</td>\n",
       "      <td>AZN</td>\n",
       "      <td>2024-11-02</td>\n",
       "      <td>Təmirsiz</td>\n",
       "      <td>Müqavilə</td>\n",
       "      <td>72 m²</td>\n",
       "      <td>1 otaqlı</td>\n",
       "    </tr>\n",
       "    <tr>\n",
       "      <th>13</th>\n",
       "      <td>Nizami m.</td>\n",
       "      <td>3</td>\n",
       "      <td>14/16</td>\n",
       "      <td>163.0</td>\n",
       "      <td>m²</td>\n",
       "      <td>502 040</td>\n",
       "      <td>AZN</td>\n",
       "      <td>2024-11-06</td>\n",
       "      <td>Təmirsiz</td>\n",
       "      <td>Müqavilə</td>\n",
       "      <td>163 m²</td>\n",
       "      <td>3 otaqlı</td>\n",
       "    </tr>\n",
       "    <tr>\n",
       "      <th>14</th>\n",
       "      <td>Böyükşor q.</td>\n",
       "      <td>3</td>\n",
       "      <td>3/15</td>\n",
       "      <td>183.0</td>\n",
       "      <td>m²</td>\n",
       "      <td>272 000</td>\n",
       "      <td>AZN</td>\n",
       "      <td>2024-11-23</td>\n",
       "      <td>Təmirsiz</td>\n",
       "      <td>Çıxarış var</td>\n",
       "      <td>183 m²</td>\n",
       "      <td>3 otaqlı</td>\n",
       "    </tr>\n",
       "    <tr>\n",
       "      <th>15</th>\n",
       "      <td>Dərnəgül m.</td>\n",
       "      <td>1</td>\n",
       "      <td>18/18</td>\n",
       "      <td>30.0</td>\n",
       "      <td>m²</td>\n",
       "      <td>79 000</td>\n",
       "      <td>AZN</td>\n",
       "      <td>2024-11-23</td>\n",
       "      <td>Təmirli</td>\n",
       "      <td>Müqavilə</td>\n",
       "      <td>30 m²</td>\n",
       "      <td>1 otaqlı</td>\n",
       "    </tr>\n",
       "    <tr>\n",
       "      <th>16</th>\n",
       "      <td>İnşaatçılar m.</td>\n",
       "      <td>2</td>\n",
       "      <td>17/23</td>\n",
       "      <td>72.0</td>\n",
       "      <td>m²</td>\n",
       "      <td>240 000</td>\n",
       "      <td>AZN</td>\n",
       "      <td>2024-11-23</td>\n",
       "      <td>Təmirli</td>\n",
       "      <td>Çıxarış var</td>\n",
       "      <td>72 m²</td>\n",
       "      <td>2 otaqlı</td>\n",
       "    </tr>\n",
       "    <tr>\n",
       "      <th>17</th>\n",
       "      <td>8 Noyabr m.</td>\n",
       "      <td>3</td>\n",
       "      <td>16/20</td>\n",
       "      <td>95.0</td>\n",
       "      <td>m²</td>\n",
       "      <td>300 000</td>\n",
       "      <td>AZN</td>\n",
       "      <td>2024-11-23</td>\n",
       "      <td>Təmirli</td>\n",
       "      <td>Çıxarış var</td>\n",
       "      <td>95 m²</td>\n",
       "      <td>3 otaqlı</td>\n",
       "    </tr>\n",
       "    <tr>\n",
       "      <th>18</th>\n",
       "      <td>Yeni Yasamal q.</td>\n",
       "      <td>2</td>\n",
       "      <td>13/15</td>\n",
       "      <td>65.0</td>\n",
       "      <td>m²</td>\n",
       "      <td>155 000</td>\n",
       "      <td>AZN</td>\n",
       "      <td>2024-11-03</td>\n",
       "      <td>Təmirli</td>\n",
       "      <td>Çıxarış var</td>\n",
       "      <td>65 m²</td>\n",
       "      <td>2 otaqlı</td>\n",
       "    </tr>\n",
       "    <tr>\n",
       "      <th>19</th>\n",
       "      <td>Şah İsmayıl Xətai m.</td>\n",
       "      <td>3</td>\n",
       "      <td>10/18</td>\n",
       "      <td>116.0</td>\n",
       "      <td>m²</td>\n",
       "      <td>320 000</td>\n",
       "      <td>AZN</td>\n",
       "      <td>2024-11-23</td>\n",
       "      <td>Təmirli</td>\n",
       "      <td>Çıxarış var</td>\n",
       "      <td>116 m²</td>\n",
       "      <td>3 otaqlı</td>\n",
       "    </tr>\n",
       "  </tbody>\n",
       "</table>\n",
       "</div>"
      ],
      "text/plain": [
       "                Location  Room number  Floor   Area Unit      Price Currency  \\\n",
       "0            Nardaran q.            3    3/4  110.0   m²    375 000      AZN   \n",
       "1        Həzi Aslanov m.            2   2/19   85.0   m²    198 000      AZN   \n",
       "2            Nardaran q.            2    4/7   93.7   m²    446 012      AZN   \n",
       "3         İçəri Şəhər m.            8  11/14  584.0   m²  1 985 000      AZN   \n",
       "4              Nəsimi r.            4   4/20  191.0   m²    440 000      AZN   \n",
       "5              Nizami m.            4  10/16  220.0   m²    679 800      AZN   \n",
       "6              Hövsan q.            4    4/9  100.0   m²    118 000      AZN   \n",
       "7              Hövsan q.            2    4/7   52.0   m²     87 000      AZN   \n",
       "8              Nəsimi r.            2   6/12   75.0   m²    189 000      AZN   \n",
       "9           20 Yanvar m.            3  10/14  105.0   m²    256 500      AZN   \n",
       "10            Gənclik m.            2   6/16   66.0   m²    210 000      AZN   \n",
       "11  Azadlıq Prospekti m.            2  10/16   65.0   m²    160 000      AZN   \n",
       "12             Nizami m.            1  13/16   72.0   m²    228 240      AZN   \n",
       "13             Nizami m.            3  14/16  163.0   m²    502 040      AZN   \n",
       "14           Böyükşor q.            3   3/15  183.0   m²    272 000      AZN   \n",
       "15           Dərnəgül m.            1  18/18   30.0   m²     79 000      AZN   \n",
       "16        İnşaatçılar m.            2  17/23   72.0   m²    240 000      AZN   \n",
       "17           8 Noyabr m.            3  16/20   95.0   m²    300 000      AZN   \n",
       "18       Yeni Yasamal q.            2  13/15   65.0   m²    155 000      AZN   \n",
       "19  Şah İsmayıl Xətai m.            3  10/18  116.0   m²    320 000      AZN   \n",
       "\n",
       "         Date Condition Document status Area of apartment Number of rooms  \n",
       "0  2024-02-18  Təmirsiz     Çıxarış var            110 m²        3 otaqlı  \n",
       "1  2024-11-19   Təmirli     Çıxarış var             85 m²        2 otaqlı  \n",
       "2  2024-07-04   Təmirli        Müqavilə           93.7 m²        2 otaqlı  \n",
       "3  2024-10-24  Təmirsiz     Çıxarış var            584 m²        8 otaqlı  \n",
       "4  2024-11-04  Təmirsiz        Müqavilə            191 m²        4 otaqlı  \n",
       "5  2024-11-04  Təmirsiz        Müqavilə            220 m²        4 otaqlı  \n",
       "6  2024-08-24   Təmirli     Çıxarış var            100 m²        4 otaqlı  \n",
       "7  2024-11-23   Təmirli     Çıxarış var             52 m²        2 otaqlı  \n",
       "8  2024-06-04  Təmirsiz     Çıxarış var             75 m²        2 otaqlı  \n",
       "9  2024-04-30   Təmirli        Müqavilə            105 m²        3 otaqlı  \n",
       "10 2024-10-05   Təmirli     Çıxarış var             66 m²        2 otaqlı  \n",
       "11 2024-11-12   Təmirli     Çıxarış var             65 m²        2 otaqlı  \n",
       "12 2024-11-02  Təmirsiz        Müqavilə             72 m²        1 otaqlı  \n",
       "13 2024-11-06  Təmirsiz        Müqavilə            163 m²        3 otaqlı  \n",
       "14 2024-11-23  Təmirsiz     Çıxarış var            183 m²        3 otaqlı  \n",
       "15 2024-11-23   Təmirli        Müqavilə             30 m²        1 otaqlı  \n",
       "16 2024-11-23   Təmirli     Çıxarış var             72 m²        2 otaqlı  \n",
       "17 2024-11-23   Təmirli     Çıxarış var             95 m²        3 otaqlı  \n",
       "18 2024-11-03   Təmirli     Çıxarış var             65 m²        2 otaqlı  \n",
       "19 2024-11-23   Təmirli     Çıxarış var            116 m²        3 otaqlı  "
      ]
     },
     "execution_count": 9,
     "metadata": {},
     "output_type": "execute_result"
    }
   ],
   "source": [
    "final_df.head(20)"
   ]
  },
  {
   "cell_type": "code",
   "execution_count": 10,
   "id": "ed36f3ea-a448-4933-8bbf-851c6bddcc60",
   "metadata": {},
   "outputs": [
    {
     "name": "stderr",
     "output_type": "stream",
     "text": [
      "/var/folders/r4/vnj7ks7s4jqc9zgcn_j50_f80000gp/T/ipykernel_22493/4211635434.py:1: SettingWithCopyWarning: \n",
      "A value is trying to be set on a copy of a slice from a DataFrame.\n",
      "Try using .loc[row_indexer,col_indexer] = value instead\n",
      "\n",
      "See the caveats in the documentation: https://pandas.pydata.org/pandas-docs/stable/user_guide/indexing.html#returning-a-view-versus-a-copy\n",
      "  final_df['Price'] = final_df['Price'].str.replace(' ', '')\n"
     ]
    },
    {
     "data": {
      "text/plain": [
       "dtype('int32')"
      ]
     },
     "execution_count": 10,
     "metadata": {},
     "output_type": "execute_result"
    }
   ],
   "source": [
    "final_df['Price'] = final_df['Price'].str.replace(' ', '')\n",
    "final_df = final_df.astype({'Price': 'int32'})\n",
    "final_df['Price'].dtype\n",
    "\n"
   ]
  },
  {
   "cell_type": "code",
   "execution_count": 11,
   "id": "fbf9d705-63a8-4702-a08d-48016c61d9a0",
   "metadata": {},
   "outputs": [
    {
     "data": {
      "text/html": [
       "<div>\n",
       "<style scoped>\n",
       "    .dataframe tbody tr th:only-of-type {\n",
       "        vertical-align: middle;\n",
       "    }\n",
       "\n",
       "    .dataframe tbody tr th {\n",
       "        vertical-align: top;\n",
       "    }\n",
       "\n",
       "    .dataframe thead th {\n",
       "        text-align: right;\n",
       "    }\n",
       "</style>\n",
       "<table border=\"1\" class=\"dataframe\">\n",
       "  <thead>\n",
       "    <tr style=\"text-align: right;\">\n",
       "      <th></th>\n",
       "      <th>Room number</th>\n",
       "      <th>Area</th>\n",
       "      <th>Price</th>\n",
       "      <th>Date</th>\n",
       "    </tr>\n",
       "  </thead>\n",
       "  <tbody>\n",
       "    <tr>\n",
       "      <th>count</th>\n",
       "      <td>25172.000000</td>\n",
       "      <td>25172.000000</td>\n",
       "      <td>2.517200e+04</td>\n",
       "      <td>25172</td>\n",
       "    </tr>\n",
       "    <tr>\n",
       "      <th>mean</th>\n",
       "      <td>2.831837</td>\n",
       "      <td>115.130141</td>\n",
       "      <td>2.961753e+05</td>\n",
       "      <td>2024-09-19 18:12:48.854282496</td>\n",
       "    </tr>\n",
       "    <tr>\n",
       "      <th>min</th>\n",
       "      <td>1.000000</td>\n",
       "      <td>17.000000</td>\n",
       "      <td>2.800000e+04</td>\n",
       "      <td>2019-07-21 00:00:00</td>\n",
       "    </tr>\n",
       "    <tr>\n",
       "      <th>25%</th>\n",
       "      <td>2.000000</td>\n",
       "      <td>75.000000</td>\n",
       "      <td>1.750000e+05</td>\n",
       "      <td>2024-09-13 00:00:00</td>\n",
       "    </tr>\n",
       "    <tr>\n",
       "      <th>50%</th>\n",
       "      <td>3.000000</td>\n",
       "      <td>102.200000</td>\n",
       "      <td>2.480000e+05</td>\n",
       "      <td>2024-10-28 00:00:00</td>\n",
       "    </tr>\n",
       "    <tr>\n",
       "      <th>75%</th>\n",
       "      <td>3.000000</td>\n",
       "      <td>139.000000</td>\n",
       "      <td>3.500000e+05</td>\n",
       "      <td>2024-11-12 00:00:00</td>\n",
       "    </tr>\n",
       "    <tr>\n",
       "      <th>max</th>\n",
       "      <td>15.000000</td>\n",
       "      <td>1400.000000</td>\n",
       "      <td>5.100000e+06</td>\n",
       "      <td>2024-11-23 00:00:00</td>\n",
       "    </tr>\n",
       "    <tr>\n",
       "      <th>std</th>\n",
       "      <td>0.905472</td>\n",
       "      <td>63.340227</td>\n",
       "      <td>2.230540e+05</td>\n",
       "      <td>NaN</td>\n",
       "    </tr>\n",
       "  </tbody>\n",
       "</table>\n",
       "</div>"
      ],
      "text/plain": [
       "        Room number          Area         Price                           Date\n",
       "count  25172.000000  25172.000000  2.517200e+04                          25172\n",
       "mean       2.831837    115.130141  2.961753e+05  2024-09-19 18:12:48.854282496\n",
       "min        1.000000     17.000000  2.800000e+04            2019-07-21 00:00:00\n",
       "25%        2.000000     75.000000  1.750000e+05            2024-09-13 00:00:00\n",
       "50%        3.000000    102.200000  2.480000e+05            2024-10-28 00:00:00\n",
       "75%        3.000000    139.000000  3.500000e+05            2024-11-12 00:00:00\n",
       "max       15.000000   1400.000000  5.100000e+06            2024-11-23 00:00:00\n",
       "std        0.905472     63.340227  2.230540e+05                            NaN"
      ]
     },
     "execution_count": 11,
     "metadata": {},
     "output_type": "execute_result"
    }
   ],
   "source": [
    "final_df.describe()"
   ]
  },
  {
   "cell_type": "markdown",
   "id": "d712b25f-ca5f-4d97-a4b0-0bdc5e56bc85",
   "metadata": {},
   "source": [
    "### Line plot for average price \n",
    "\n",
    "This section creates an interactive line plot to visualize the average property prices over time for a selected location and date range. A function, line_plot, filters the DataFrame based on the selected location and calculates the mean price grouped by date. The filtered data is plotted using plotly.express.line, with customizable x-axis formatting for better readability. Widgets, such as a dropdown menu for location selection and date pickers for start and end dates, allow users to interactively specify their preferences. The interact function dynamically updates the plot based on the selected inputs, making the visualization intuitive and user-friendly. This interactivity provides a powerful tool for exploring trends in the data."
   ]
  },
  {
   "cell_type": "code",
   "execution_count": 12,
   "id": "be4b7c72-4d4a-4cfc-8dc1-c86ebd0f07e5",
   "metadata": {},
   "outputs": [
    {
     "data": {
      "application/vnd.jupyter.widget-view+json": {
       "model_id": "ffd5e7733dcc4ad1a337368ec52ab593",
       "version_major": 2,
       "version_minor": 0
      },
      "text/plain": [
       "interactive(children=(Dropdown(description='Location:', options=('Nardaran q.', 'Həzi Aslanov m.', 'İçəri Şəhə…"
      ]
     },
     "metadata": {},
     "output_type": "display_data"
    },
    {
     "data": {
      "text/plain": [
       "<function __main__.line_plot(location, start_date, end_date)>"
      ]
     },
     "execution_count": 12,
     "metadata": {},
     "output_type": "execute_result"
    }
   ],
   "source": [
    "\n",
    "#final_df['Date'] = pd.to_datetime(final_df['Date'])\n",
    "\n",
    "def line_plot(location, start_date, end_date):\n",
    "    \n",
    "    # Filter the DataFrame for the selected location\n",
    "    filtered_final_df = final_df[final_df['Location'] == location]\n",
    "    # Group by date and calculate the mean price\n",
    "    grouped_df = filtered_final_df.groupby('Date')['Price'].mean().reset_index()\n",
    "\n",
    "    \n",
    "    grouped_df = grouped_df[(grouped_df['Date'] >= pd.to_datetime(start_date)) & (grouped_df['Date'] <= pd.to_datetime(end_date))]\n",
    "\n",
    "    \n",
    "    fig=px.line(\n",
    "        grouped_df,\n",
    "        x='Date',\n",
    "        y='Price',\n",
    "        title=f'Average Price for {location}',\n",
    "        height=1000, \n",
    "        width=1000\n",
    "    )\n",
    "\n",
    "    fig.update_xaxes(\n",
    "    dtick=\"M3\",\n",
    "    tickformat=\"%b\\n%Y\"\n",
    "    )\n",
    "\n",
    "    fig.show()\n",
    "\n",
    "\n",
    "location_dropdown= widgets.Dropdown(\n",
    "    options=final_df['Location'].unique(),\n",
    "    description='Location:',\n",
    "    disabled=False\n",
    "    \n",
    ")\n",
    "\n",
    "start_date_picker =widgets.DatePicker(\n",
    "    description='Pick a start date',\n",
    "    value=final_df['Date'].min(),\n",
    "    disabled=False\n",
    ")\n",
    "\n",
    "\n",
    "end_date_picker =widgets.DatePicker(\n",
    "    description='Pick an end date',\n",
    "    value=final_df['Date'].max(),\n",
    "    disabled=False\n",
    ")\n",
    "\n",
    "\n",
    "\n",
    "# Use the interact function to update the plot when a location is selected\n",
    "interact(line_plot, location=location_dropdown, start_date=start_date_picker, end_date=end_date_picker)\n",
    "\n",
    "\n"
   ]
  },
  {
   "cell_type": "markdown",
   "id": "41fac590-e5c4-49c6-bd87-41b3b1ff62d0",
   "metadata": {},
   "source": [
    "### Number of apartments based on location\n",
    "\n",
    "- This section creates a bar chart to visualize the number of apartments in different locations, categorized by their condition (renovated or unrenovated), along with their median price. First, the data is grouped by location and condition to count apartments and calculate their median prices. A pivot table is created to restructure the data for bar chart visualization, with additional columns for totals and condition-specific counts. The data is then sorted by total count for better readability. The bar chart is generated using plotly.express, with hover labels providing details such as location, count, and median price. The layout is customized to include labeled axes, angled x-axis labels, and text annotations on the bars, making the visualization clear and informative.\n",
    "\n",
    "\n",
    "- The bar chart shows a skewed distribution of apartments, with locations like Nizami q. and Yasamal q. having the highest counts, indicating concentrated real estate activity in these areas. The sharp decline in counts for other locations highlights less populated regions. The color scale effectively differentiates high-demand areas, providing valuable insights for targeted real estate investments or marketing efforts."
   ]
  },
  {
   "cell_type": "code",
   "execution_count": 13,
   "id": "6ed0d085-edb9-4ad0-8c1d-531f9100bf7a",
   "metadata": {},
   "outputs": [
    {
     "data": {
      "application/vnd.plotly.v1+json": {
       "config": {
        "plotlyServerURL": "https://plot.ly"
       },
       "data": [
        {
         "alignmentgroup": "True",
         "customdata": [
          [
           1367,
           278000
          ],
          [
           1625,
           212000
          ],
          [
           1184,
           317750
          ],
          [
           1087,
           335000
          ],
          [
           1306,
           178000
          ],
          [
           880,
           345000
          ],
          [
           995,
           350000
          ],
          [
           982,
           275000
          ],
          [
           724,
           300000
          ],
          [
           571,
           377600
          ],
          [
           759,
           210000
          ],
          [
           663,
           76000
          ],
          [
           574,
           232000
          ],
          [
           501,
           208000
          ],
          [
           477,
           330000
          ],
          [
           241,
           541250
          ],
          [
           572,
           200000
          ],
          [
           392,
           183250
          ],
          [
           384,
           170000
          ],
          [
           333,
           210000
          ],
          [
           399,
           170000
          ],
          [
           263,
           230000
          ],
          [
           133,
           334150
          ],
          [
           243,
           148000
          ],
          [
           149,
           310233
          ],
          [
           240,
           209000
          ],
          [
           183,
           165000
          ],
          [
           117,
           583000
          ],
          [
           207,
           200000
          ],
          [
           172,
           225000
          ],
          [
           100,
           325500
          ],
          [
           130,
           230000
          ],
          [
           132,
           120000
          ],
          [
           103,
           179000
          ],
          [
           121,
           175000
          ],
          [
           107,
           276000
          ],
          [
           93,
           197000
          ],
          [
           91,
           180000
          ],
          [
           84,
           198500
          ],
          [
           94,
           195000
          ],
          [
           92,
           96000
          ],
          [
           74,
           145000
          ],
          [
           75,
           235000
          ],
          [
           57,
           146000
          ],
          [
           58,
           737000
          ],
          [
           46,
           187000
          ],
          [
           37,
           132500
          ],
          [
           32,
           120420
          ],
          [
           34,
           91750
          ],
          [
           35,
           120000
          ],
          [
           35,
           94000
          ],
          [
           18,
           170000
          ],
          [
           28,
           113500
          ],
          [
           14,
           239000
          ],
          [
           17,
           170000
          ],
          [
           17,
           375000
          ],
          [
           11,
           88500
          ],
          [
           11,
           90750
          ],
          [
           13,
           121000
          ],
          [
           11,
           137000
          ],
          [
           10,
           260000
          ],
          [
           12,
           229000
          ],
          [
           10,
           85000
          ],
          [
           8,
           95000
          ],
          [
           9,
           60000
          ],
          [
           8,
           92000
          ],
          [
           6,
           130500
          ],
          [
           5,
           76250
          ],
          [
           7,
           82000
          ],
          [
           6,
           271000
          ],
          [
           7,
           235000
          ],
          [
           7,
           110000
          ],
          [
           6,
           146550
          ],
          [
           1,
           222750
          ],
          [
           5,
           120000
          ],
          [
           5,
           305000
          ],
          [
           3,
           60350
          ],
          [
           4,
           110000
          ],
          [
           3,
           85500
          ],
          [
           2,
           70560
          ],
          [
           0,
           80000
          ],
          [
           3,
           270000
          ],
          [
           3,
           120000
          ],
          [
           3,
           167000
          ],
          [
           1,
           154500
          ],
          [
           1,
           166750
          ],
          [
           2,
           117500
          ],
          [
           1,
           201500
          ],
          [
           1,
           75000
          ],
          [
           1,
           85000
          ],
          [
           2,
           210000
          ],
          [
           1,
           111500
          ],
          [
           1,
           56000
          ],
          [
           1,
           295000
          ],
          [
           1,
           550000
          ],
          [
           1,
           380000
          ],
          [
           1,
           350000
          ],
          [
           0,
           214676
          ],
          [
           0,
           60000
          ],
          [
           0,
           65000
          ],
          [
           1,
           120000
          ],
          [
           1,
           125000
          ],
          [
           1,
           58000
          ],
          [
           1,
           240000
          ]
         ],
         "hovertemplate": "Ərazi=%{x}<br>Mənzillərin sayı=%{marker.color}<br>Təmirli=%{customdata[0]}<br>Ortalama qiymət=%{customdata[1]}<extra></extra>",
         "legendgroup": "",
         "marker": {
          "color": [
           1743,
           1706,
           1640,
           1516,
           1402,
           1342,
           1310,
           1288,
           890,
           881,
           849,
           748,
           723,
           663,
           659,
           626,
           609,
           474,
           428,
           424,
           423,
           333,
           304,
           285,
           275,
           243,
           240,
           237,
           220,
           216,
           176,
           174,
           153,
           152,
           145,
           144,
           111,
           105,
           100,
           99,
           94,
           93,
           91,
           84,
           84,
           51,
           50,
           50,
           50,
           49,
           44,
           37,
           33,
           27,
           19,
           18,
           15,
           14,
           13,
           13,
           13,
           12,
           11,
           9,
           9,
           9,
           8,
           8,
           8,
           8,
           7,
           7,
           6,
           6,
           5,
           5,
           4,
           4,
           4,
           4,
           3,
           3,
           3,
           3,
           2,
           2,
           2,
           2,
           2,
           2,
           2,
           2,
           1,
           1,
           1,
           1,
           1,
           1,
           1,
           1,
           1,
           1,
           1,
           1
          ],
          "coloraxis": "coloraxis",
          "pattern": {
           "shape": ""
          }
         },
         "name": "",
         "offsetgroup": "",
         "orientation": "v",
         "showlegend": false,
         "text": [
          1743,
          1706,
          1640,
          1516,
          1402,
          1342,
          1310,
          1288,
          890,
          881,
          849,
          748,
          723,
          663,
          659,
          626,
          609,
          474,
          428,
          424,
          423,
          333,
          304,
          285,
          275,
          243,
          240,
          237,
          220,
          216,
          176,
          174,
          153,
          152,
          145,
          144,
          111,
          105,
          100,
          99,
          94,
          93,
          91,
          84,
          84,
          51,
          50,
          50,
          50,
          49,
          44,
          37,
          33,
          27,
          19,
          18,
          15,
          14,
          13,
          13,
          13,
          12,
          11,
          9,
          9,
          9,
          8,
          8,
          8,
          8,
          7,
          7,
          6,
          6,
          5,
          5,
          4,
          4,
          4,
          4,
          3,
          3,
          3,
          3,
          2,
          2,
          2,
          2,
          2,
          2,
          2,
          2,
          1,
          1,
          1,
          1,
          1,
          1,
          1,
          1,
          1,
          1,
          1,
          1
         ],
         "textposition": "outside",
         "texttemplate": "%{text}",
         "type": "bar",
         "x": [
          "Nəriman Nərimanov m.",
          "İnşaatçılar m.",
          "Şah İsmayıl Xətai m.",
          "Nəsimi r.",
          "Həzi Aslanov m.",
          "28 May m.",
          "Elmlər Akademiyası m.",
          "Nərimanov r.",
          "8 Noyabr m.",
          "Nizami m.",
          "20 Yanvar m.",
          "Masazır q.",
          "Qara Qarayev m.",
          "Xətai r.",
          "Gənclik m.",
          "Ağ şəhər q.",
          "Memar Əcəmi m.",
          "Neftçilər m.",
          "Yeni Yasamal q.",
          "Azadlıq Prospekti m.",
          "Əhmədli m.",
          "Yasamal r.",
          "Bayıl q.",
          "Bakıxanov q.",
          "Nardaran q.",
          "Nəsimi m.",
          "Həzi Aslanov q.",
          "İçəri Şəhər m.",
          "Xalqlar Dostluğu m.",
          "Badamdar q.",
          "Koroğlu m.",
          "Yasamal q.",
          "Yeni Günəşli q.",
          "7-ci mikrorayon q.",
          "Əhmədli q.",
          "Səbail r.",
          "Binəqədi r.",
          "Dərnəgül m.",
          "Nizami r.",
          "9-cu mikrorayon q.",
          "Hövsan q.",
          "Avtovağzal m.",
          "8-ci mikrorayon q.",
          "Biləcəri q.",
          "Sahil m.",
          "8-ci kilometr q.",
          "Qaraçuxur q.",
          "Zığ q.",
          "Binəqədi q.",
          "Lökbatan q.",
          "Abşeron r.",
          "Sabunçu r.",
          "Məmmədli q.",
          "Şıxov q.",
          "Köhnə Günəşli q.",
          "Kubinka q.",
          "Mehdiabad q.",
          "Saray q.",
          "Massiv D q.",
          "Suraxanı r.",
          "Buzovna q.",
          "Bakmil m.",
          "Ceyranbatan q.",
          "Suraxanı q.",
          "Digah q.",
          "Zabrat q.",
          "Sabunçu q.",
          "Əmircan q.",
          "Aşağı Güzdək q.",
          "Böyükşor q.",
          "Qaradağ r.",
          "Xocəsən q.",
          "Günəşli q.",
          "Xutor q.",
          "Xəzər r.",
          "6-cı mikrorayon q.",
          "Pirallahı r.",
          "Ramana q.",
          "Massiv V q.",
          "Binə q.",
          "Görədil q.",
          "2-ci mikrorayon q.",
          "M.Ə.Rəsulzadə q.",
          "20-ci sahə q.",
          "Bibi Heybət q.",
          "5-ci mikrorayon q.",
          "Yeni Ramana q.",
          "Ulduz m.",
          "NZS q.",
          "Hökməli q.",
          "3-cü mikrorayon q.",
          "Mərdəkan q.",
          "Şüvəlan q.",
          "4-cü mikrorayon q.",
          "28 May q.",
          "Novxanı q.",
          "Fatmayı q.",
          "Bilgəh q.",
          "Yeni Suraxanı q.",
          "Bülbülə q.",
          "Massiv A q.",
          "Massiv G q.",
          "Müşfiqabad q.",
          "1-ci mikrorayon q."
         ],
         "xaxis": "x",
         "y": [
          1743,
          1706,
          1640,
          1516,
          1402,
          1342,
          1310,
          1288,
          890,
          881,
          849,
          748,
          723,
          663,
          659,
          626,
          609,
          474,
          428,
          424,
          423,
          333,
          304,
          285,
          275,
          243,
          240,
          237,
          220,
          216,
          176,
          174,
          153,
          152,
          145,
          144,
          111,
          105,
          100,
          99,
          94,
          93,
          91,
          84,
          84,
          51,
          50,
          50,
          50,
          49,
          44,
          37,
          33,
          27,
          19,
          18,
          15,
          14,
          13,
          13,
          13,
          12,
          11,
          9,
          9,
          9,
          8,
          8,
          8,
          8,
          7,
          7,
          6,
          6,
          5,
          5,
          4,
          4,
          4,
          4,
          3,
          3,
          3,
          3,
          2,
          2,
          2,
          2,
          2,
          2,
          2,
          2,
          1,
          1,
          1,
          1,
          1,
          1,
          1,
          1,
          1,
          1,
          1,
          1
         ],
         "yaxis": "y"
        }
       ],
       "layout": {
        "barmode": "relative",
        "coloraxis": {
         "colorbar": {
          "title": {
           "text": "Mənzillərin sayı"
          }
         },
         "colorscale": [
          [
           0,
           "#0d0887"
          ],
          [
           0.1111111111111111,
           "#46039f"
          ],
          [
           0.2222222222222222,
           "#7201a8"
          ],
          [
           0.3333333333333333,
           "#9c179e"
          ],
          [
           0.4444444444444444,
           "#bd3786"
          ],
          [
           0.5555555555555556,
           "#d8576b"
          ],
          [
           0.6666666666666666,
           "#ed7953"
          ],
          [
           0.7777777777777778,
           "#fb9f3a"
          ],
          [
           0.8888888888888888,
           "#fdca26"
          ],
          [
           1,
           "#f0f921"
          ]
         ]
        },
        "height": 1000,
        "legend": {
         "tracegroupgap": 0
        },
        "template": {
         "data": {
          "bar": [
           {
            "error_x": {
             "color": "#2a3f5f"
            },
            "error_y": {
             "color": "#2a3f5f"
            },
            "marker": {
             "line": {
              "color": "#E5ECF6",
              "width": 0.5
             },
             "pattern": {
              "fillmode": "overlay",
              "size": 10,
              "solidity": 0.2
             }
            },
            "type": "bar"
           }
          ],
          "barpolar": [
           {
            "marker": {
             "line": {
              "color": "#E5ECF6",
              "width": 0.5
             },
             "pattern": {
              "fillmode": "overlay",
              "size": 10,
              "solidity": 0.2
             }
            },
            "type": "barpolar"
           }
          ],
          "carpet": [
           {
            "aaxis": {
             "endlinecolor": "#2a3f5f",
             "gridcolor": "white",
             "linecolor": "white",
             "minorgridcolor": "white",
             "startlinecolor": "#2a3f5f"
            },
            "baxis": {
             "endlinecolor": "#2a3f5f",
             "gridcolor": "white",
             "linecolor": "white",
             "minorgridcolor": "white",
             "startlinecolor": "#2a3f5f"
            },
            "type": "carpet"
           }
          ],
          "choropleth": [
           {
            "colorbar": {
             "outlinewidth": 0,
             "ticks": ""
            },
            "type": "choropleth"
           }
          ],
          "contour": [
           {
            "colorbar": {
             "outlinewidth": 0,
             "ticks": ""
            },
            "colorscale": [
             [
              0,
              "#0d0887"
             ],
             [
              0.1111111111111111,
              "#46039f"
             ],
             [
              0.2222222222222222,
              "#7201a8"
             ],
             [
              0.3333333333333333,
              "#9c179e"
             ],
             [
              0.4444444444444444,
              "#bd3786"
             ],
             [
              0.5555555555555556,
              "#d8576b"
             ],
             [
              0.6666666666666666,
              "#ed7953"
             ],
             [
              0.7777777777777778,
              "#fb9f3a"
             ],
             [
              0.8888888888888888,
              "#fdca26"
             ],
             [
              1,
              "#f0f921"
             ]
            ],
            "type": "contour"
           }
          ],
          "contourcarpet": [
           {
            "colorbar": {
             "outlinewidth": 0,
             "ticks": ""
            },
            "type": "contourcarpet"
           }
          ],
          "heatmap": [
           {
            "colorbar": {
             "outlinewidth": 0,
             "ticks": ""
            },
            "colorscale": [
             [
              0,
              "#0d0887"
             ],
             [
              0.1111111111111111,
              "#46039f"
             ],
             [
              0.2222222222222222,
              "#7201a8"
             ],
             [
              0.3333333333333333,
              "#9c179e"
             ],
             [
              0.4444444444444444,
              "#bd3786"
             ],
             [
              0.5555555555555556,
              "#d8576b"
             ],
             [
              0.6666666666666666,
              "#ed7953"
             ],
             [
              0.7777777777777778,
              "#fb9f3a"
             ],
             [
              0.8888888888888888,
              "#fdca26"
             ],
             [
              1,
              "#f0f921"
             ]
            ],
            "type": "heatmap"
           }
          ],
          "heatmapgl": [
           {
            "colorbar": {
             "outlinewidth": 0,
             "ticks": ""
            },
            "colorscale": [
             [
              0,
              "#0d0887"
             ],
             [
              0.1111111111111111,
              "#46039f"
             ],
             [
              0.2222222222222222,
              "#7201a8"
             ],
             [
              0.3333333333333333,
              "#9c179e"
             ],
             [
              0.4444444444444444,
              "#bd3786"
             ],
             [
              0.5555555555555556,
              "#d8576b"
             ],
             [
              0.6666666666666666,
              "#ed7953"
             ],
             [
              0.7777777777777778,
              "#fb9f3a"
             ],
             [
              0.8888888888888888,
              "#fdca26"
             ],
             [
              1,
              "#f0f921"
             ]
            ],
            "type": "heatmapgl"
           }
          ],
          "histogram": [
           {
            "marker": {
             "pattern": {
              "fillmode": "overlay",
              "size": 10,
              "solidity": 0.2
             }
            },
            "type": "histogram"
           }
          ],
          "histogram2d": [
           {
            "colorbar": {
             "outlinewidth": 0,
             "ticks": ""
            },
            "colorscale": [
             [
              0,
              "#0d0887"
             ],
             [
              0.1111111111111111,
              "#46039f"
             ],
             [
              0.2222222222222222,
              "#7201a8"
             ],
             [
              0.3333333333333333,
              "#9c179e"
             ],
             [
              0.4444444444444444,
              "#bd3786"
             ],
             [
              0.5555555555555556,
              "#d8576b"
             ],
             [
              0.6666666666666666,
              "#ed7953"
             ],
             [
              0.7777777777777778,
              "#fb9f3a"
             ],
             [
              0.8888888888888888,
              "#fdca26"
             ],
             [
              1,
              "#f0f921"
             ]
            ],
            "type": "histogram2d"
           }
          ],
          "histogram2dcontour": [
           {
            "colorbar": {
             "outlinewidth": 0,
             "ticks": ""
            },
            "colorscale": [
             [
              0,
              "#0d0887"
             ],
             [
              0.1111111111111111,
              "#46039f"
             ],
             [
              0.2222222222222222,
              "#7201a8"
             ],
             [
              0.3333333333333333,
              "#9c179e"
             ],
             [
              0.4444444444444444,
              "#bd3786"
             ],
             [
              0.5555555555555556,
              "#d8576b"
             ],
             [
              0.6666666666666666,
              "#ed7953"
             ],
             [
              0.7777777777777778,
              "#fb9f3a"
             ],
             [
              0.8888888888888888,
              "#fdca26"
             ],
             [
              1,
              "#f0f921"
             ]
            ],
            "type": "histogram2dcontour"
           }
          ],
          "mesh3d": [
           {
            "colorbar": {
             "outlinewidth": 0,
             "ticks": ""
            },
            "type": "mesh3d"
           }
          ],
          "parcoords": [
           {
            "line": {
             "colorbar": {
              "outlinewidth": 0,
              "ticks": ""
             }
            },
            "type": "parcoords"
           }
          ],
          "pie": [
           {
            "automargin": true,
            "type": "pie"
           }
          ],
          "scatter": [
           {
            "fillpattern": {
             "fillmode": "overlay",
             "size": 10,
             "solidity": 0.2
            },
            "type": "scatter"
           }
          ],
          "scatter3d": [
           {
            "line": {
             "colorbar": {
              "outlinewidth": 0,
              "ticks": ""
             }
            },
            "marker": {
             "colorbar": {
              "outlinewidth": 0,
              "ticks": ""
             }
            },
            "type": "scatter3d"
           }
          ],
          "scattercarpet": [
           {
            "marker": {
             "colorbar": {
              "outlinewidth": 0,
              "ticks": ""
             }
            },
            "type": "scattercarpet"
           }
          ],
          "scattergeo": [
           {
            "marker": {
             "colorbar": {
              "outlinewidth": 0,
              "ticks": ""
             }
            },
            "type": "scattergeo"
           }
          ],
          "scattergl": [
           {
            "marker": {
             "colorbar": {
              "outlinewidth": 0,
              "ticks": ""
             }
            },
            "type": "scattergl"
           }
          ],
          "scattermapbox": [
           {
            "marker": {
             "colorbar": {
              "outlinewidth": 0,
              "ticks": ""
             }
            },
            "type": "scattermapbox"
           }
          ],
          "scatterpolar": [
           {
            "marker": {
             "colorbar": {
              "outlinewidth": 0,
              "ticks": ""
             }
            },
            "type": "scatterpolar"
           }
          ],
          "scatterpolargl": [
           {
            "marker": {
             "colorbar": {
              "outlinewidth": 0,
              "ticks": ""
             }
            },
            "type": "scatterpolargl"
           }
          ],
          "scatterternary": [
           {
            "marker": {
             "colorbar": {
              "outlinewidth": 0,
              "ticks": ""
             }
            },
            "type": "scatterternary"
           }
          ],
          "surface": [
           {
            "colorbar": {
             "outlinewidth": 0,
             "ticks": ""
            },
            "colorscale": [
             [
              0,
              "#0d0887"
             ],
             [
              0.1111111111111111,
              "#46039f"
             ],
             [
              0.2222222222222222,
              "#7201a8"
             ],
             [
              0.3333333333333333,
              "#9c179e"
             ],
             [
              0.4444444444444444,
              "#bd3786"
             ],
             [
              0.5555555555555556,
              "#d8576b"
             ],
             [
              0.6666666666666666,
              "#ed7953"
             ],
             [
              0.7777777777777778,
              "#fb9f3a"
             ],
             [
              0.8888888888888888,
              "#fdca26"
             ],
             [
              1,
              "#f0f921"
             ]
            ],
            "type": "surface"
           }
          ],
          "table": [
           {
            "cells": {
             "fill": {
              "color": "#EBF0F8"
             },
             "line": {
              "color": "white"
             }
            },
            "header": {
             "fill": {
              "color": "#C8D4E3"
             },
             "line": {
              "color": "white"
             }
            },
            "type": "table"
           }
          ]
         },
         "layout": {
          "annotationdefaults": {
           "arrowcolor": "#2a3f5f",
           "arrowhead": 0,
           "arrowwidth": 1
          },
          "autotypenumbers": "strict",
          "coloraxis": {
           "colorbar": {
            "outlinewidth": 0,
            "ticks": ""
           }
          },
          "colorscale": {
           "diverging": [
            [
             0,
             "#8e0152"
            ],
            [
             0.1,
             "#c51b7d"
            ],
            [
             0.2,
             "#de77ae"
            ],
            [
             0.3,
             "#f1b6da"
            ],
            [
             0.4,
             "#fde0ef"
            ],
            [
             0.5,
             "#f7f7f7"
            ],
            [
             0.6,
             "#e6f5d0"
            ],
            [
             0.7,
             "#b8e186"
            ],
            [
             0.8,
             "#7fbc41"
            ],
            [
             0.9,
             "#4d9221"
            ],
            [
             1,
             "#276419"
            ]
           ],
           "sequential": [
            [
             0,
             "#0d0887"
            ],
            [
             0.1111111111111111,
             "#46039f"
            ],
            [
             0.2222222222222222,
             "#7201a8"
            ],
            [
             0.3333333333333333,
             "#9c179e"
            ],
            [
             0.4444444444444444,
             "#bd3786"
            ],
            [
             0.5555555555555556,
             "#d8576b"
            ],
            [
             0.6666666666666666,
             "#ed7953"
            ],
            [
             0.7777777777777778,
             "#fb9f3a"
            ],
            [
             0.8888888888888888,
             "#fdca26"
            ],
            [
             1,
             "#f0f921"
            ]
           ],
           "sequentialminus": [
            [
             0,
             "#0d0887"
            ],
            [
             0.1111111111111111,
             "#46039f"
            ],
            [
             0.2222222222222222,
             "#7201a8"
            ],
            [
             0.3333333333333333,
             "#9c179e"
            ],
            [
             0.4444444444444444,
             "#bd3786"
            ],
            [
             0.5555555555555556,
             "#d8576b"
            ],
            [
             0.6666666666666666,
             "#ed7953"
            ],
            [
             0.7777777777777778,
             "#fb9f3a"
            ],
            [
             0.8888888888888888,
             "#fdca26"
            ],
            [
             1,
             "#f0f921"
            ]
           ]
          },
          "colorway": [
           "#636efa",
           "#EF553B",
           "#00cc96",
           "#ab63fa",
           "#FFA15A",
           "#19d3f3",
           "#FF6692",
           "#B6E880",
           "#FF97FF",
           "#FECB52"
          ],
          "font": {
           "color": "#2a3f5f"
          },
          "geo": {
           "bgcolor": "white",
           "lakecolor": "white",
           "landcolor": "#E5ECF6",
           "showlakes": true,
           "showland": true,
           "subunitcolor": "white"
          },
          "hoverlabel": {
           "align": "left"
          },
          "hovermode": "closest",
          "mapbox": {
           "style": "light"
          },
          "paper_bgcolor": "white",
          "plot_bgcolor": "#E5ECF6",
          "polar": {
           "angularaxis": {
            "gridcolor": "white",
            "linecolor": "white",
            "ticks": ""
           },
           "bgcolor": "#E5ECF6",
           "radialaxis": {
            "gridcolor": "white",
            "linecolor": "white",
            "ticks": ""
           }
          },
          "scene": {
           "xaxis": {
            "backgroundcolor": "#E5ECF6",
            "gridcolor": "white",
            "gridwidth": 2,
            "linecolor": "white",
            "showbackground": true,
            "ticks": "",
            "zerolinecolor": "white"
           },
           "yaxis": {
            "backgroundcolor": "#E5ECF6",
            "gridcolor": "white",
            "gridwidth": 2,
            "linecolor": "white",
            "showbackground": true,
            "ticks": "",
            "zerolinecolor": "white"
           },
           "zaxis": {
            "backgroundcolor": "#E5ECF6",
            "gridcolor": "white",
            "gridwidth": 2,
            "linecolor": "white",
            "showbackground": true,
            "ticks": "",
            "zerolinecolor": "white"
           }
          },
          "shapedefaults": {
           "line": {
            "color": "#2a3f5f"
           }
          },
          "ternary": {
           "aaxis": {
            "gridcolor": "white",
            "linecolor": "white",
            "ticks": ""
           },
           "baxis": {
            "gridcolor": "white",
            "linecolor": "white",
            "ticks": ""
           },
           "bgcolor": "#E5ECF6",
           "caxis": {
            "gridcolor": "white",
            "linecolor": "white",
            "ticks": ""
           }
          },
          "title": {
           "x": 0.05
          },
          "xaxis": {
           "automargin": true,
           "gridcolor": "white",
           "linecolor": "white",
           "ticks": "",
           "title": {
            "standoff": 15
           },
           "zerolinecolor": "white",
           "zerolinewidth": 2
          },
          "yaxis": {
           "automargin": true,
           "gridcolor": "white",
           "linecolor": "white",
           "ticks": "",
           "title": {
            "standoff": 15
           },
           "zerolinecolor": "white",
           "zerolinewidth": 2
          }
         }
        },
        "title": {
         "text": "Əraziyə görə mənzillərin sayı ortalama qiyməti və təmir statusu"
        },
        "width": 1000,
        "xaxis": {
         "anchor": "y",
         "autorange": true,
         "domain": [
          0,
          1
         ],
         "range": [
          -0.5,
          103.5
         ],
         "tickangle": -45,
         "title": {
          "text": "Ərazi"
         },
         "type": "category"
        },
        "yaxis": {
         "anchor": "x",
         "autorange": true,
         "domain": [
          0,
          1
         ],
         "range": [
          0,
          1834.7368421052631
         ],
         "title": {
          "text": "Mənzillərin sayı"
         },
         "type": "linear"
        }
       }
      },
      "image/png": "[encoded data removed]",
      "text/html": [
       "<div>                            <div id=\"e4bbd6cf-76d3-460f-8bbe-61a793d8f3e3\" class=\"plotly-graph-div\" style=\"height:1000px; width:1000px;\"></div>            <script type=\"text/javascript\">                require([\"plotly\"], function(Plotly) {                    window.PLOTLYENV=window.PLOTLYENV || {};                                    if (document.getElementById(\"e4bbd6cf-76d3-460f-8bbe-61a793d8f3e3\")) {                    Plotly.newPlot(                        \"e4bbd6cf-76d3-460f-8bbe-61a793d8f3e3\",                        [{\"alignmentgroup\":\"True\",\"customdata\":[[1367.0,278000.0],[1625.0,212000.0],[1184.0,317750.0],[1087.0,335000.0],[1306.0,178000.0],[880.0,345000.0],[995.0,350000.0],[982.0,275000.0],[724.0,300000.0],[571.0,377600.0],[759.0,210000.0],[663.0,76000.0],[574.0,232000.0],[501.0,208000.0],[477.0,330000.0],[241.0,541250.0],[572.0,200000.0],[392.0,183250.0],[384.0,170000.0],[333.0,210000.0],[399.0,170000.0],[263.0,230000.0],[133.0,334150.0],[243.0,148000.0],[149.0,310233.0],[240.0,209000.0],[183.0,165000.0],[117.0,583000.0],[207.0,200000.0],[172.0,225000.0],[100.0,325500.0],[130.0,230000.0],[132.0,120000.0],[103.0,179000.0],[121.0,175000.0],[107.0,276000.0],[93.0,197000.0],[91.0,180000.0],[84.0,198500.0],[94.0,195000.0],[92.0,96000.0],[74.0,145000.0],[75.0,235000.0],[57.0,146000.0],[58.0,737000.0],[46.0,187000.0],[37.0,132500.0],[32.0,120420.0],[34.0,91750.0],[35.0,120000.0],[35.0,94000.0],[18.0,170000.0],[28.0,113500.0],[14.0,239000.0],[17.0,170000.0],[17.0,375000.0],[11.0,88500.0],[11.0,90750.0],[13.0,121000.0],[11.0,137000.0],[10.0,260000.0],[12.0,229000.0],[10.0,85000.0],[8.0,95000.0],[9.0,60000.0],[8.0,92000.0],[6.0,130500.0],[5.0,76250.0],[7.0,82000.0],[6.0,271000.0],[7.0,235000.0],[7.0,110000.0],[6.0,146550.0],[1.0,222750.0],[5.0,120000.0],[5.0,305000.0],[3.0,60350.0],[4.0,110000.0],[3.0,85500.0],[2.0,70560.0],[0.0,80000.0],[3.0,270000.0],[3.0,120000.0],[3.0,167000.0],[1.0,154500.0],[1.0,166750.0],[2.0,117500.0],[1.0,201500.0],[1.0,75000.0],[1.0,85000.0],[2.0,210000.0],[1.0,111500.0],[1.0,56000.0],[1.0,295000.0],[1.0,550000.0],[1.0,380000.0],[1.0,350000.0],[0.0,214676.0],[0.0,60000.0],[0.0,65000.0],[1.0,120000.0],[1.0,125000.0],[1.0,58000.0],[1.0,240000.0]],\"hovertemplate\":\"\\u018frazi=%{x}<br>M\\u0259nzill\\u0259rin say\\u0131=%{marker.color}<br>T\\u0259mirli=%{customdata[0]}<br>Ortalama qiym\\u0259t=%{customdata[1]}<extra></extra>\",\"legendgroup\":\"\",\"marker\":{\"color\":[1743,1706,1640,1516,1402,1342,1310,1288,890,881,849,748,723,663,659,626,609,474,428,424,423,333,304,285,275,243,240,237,220,216,176,174,153,152,145,144,111,105,100,99,94,93,91,84,84,51,50,50,50,49,44,37,33,27,19,18,15,14,13,13,13,12,11,9,9,9,8,8,8,8,7,7,6,6,5,5,4,4,4,4,3,3,3,3,2,2,2,2,2,2,2,2,1,1,1,1,1,1,1,1,1,1,1,1],\"coloraxis\":\"coloraxis\",\"pattern\":{\"shape\":\"\"}},\"name\":\"\",\"offsetgroup\":\"\",\"orientation\":\"v\",\"showlegend\":false,\"text\":[1743.0,1706.0,1640.0,1516.0,1402.0,1342.0,1310.0,1288.0,890.0,881.0,849.0,748.0,723.0,663.0,659.0,626.0,609.0,474.0,428.0,424.0,423.0,333.0,304.0,285.0,275.0,243.0,240.0,237.0,220.0,216.0,176.0,174.0,153.0,152.0,145.0,144.0,111.0,105.0,100.0,99.0,94.0,93.0,91.0,84.0,84.0,51.0,50.0,50.0,50.0,49.0,44.0,37.0,33.0,27.0,19.0,18.0,15.0,14.0,13.0,13.0,13.0,12.0,11.0,9.0,9.0,9.0,8.0,8.0,8.0,8.0,7.0,7.0,6.0,6.0,5.0,5.0,4.0,4.0,4.0,4.0,3.0,3.0,3.0,3.0,2.0,2.0,2.0,2.0,2.0,2.0,2.0,2.0,1.0,1.0,1.0,1.0,1.0,1.0,1.0,1.0,1.0,1.0,1.0,1.0],\"textposition\":\"outside\",\"x\":[\"N\\u0259riman N\\u0259rimanov m.\",\"\\u0130n\\u015faat\\u00e7\\u0131lar m.\",\"\\u015eah \\u0130smay\\u0131l X\\u0259tai m.\",\"N\\u0259simi r.\",\"H\\u0259zi Aslanov m.\",\"28 May m.\",\"Elml\\u0259r Akademiyas\\u0131 m.\",\"N\\u0259rimanov r.\",\"8 Noyabr m.\",\"Nizami m.\",\"20 Yanvar m.\",\"Masaz\\u0131r q.\",\"Qara Qarayev m.\",\"X\\u0259tai r.\",\"G\\u0259nclik m.\",\"A\\u011f \\u015f\\u0259h\\u0259r q.\",\"Memar \\u018fc\\u0259mi m.\",\"Neft\\u00e7il\\u0259r m.\",\"Yeni Yasamal q.\",\"Azadl\\u0131q Prospekti m.\",\"\\u018fhm\\u0259dli m.\",\"Yasamal r.\",\"Bay\\u0131l q.\",\"Bak\\u0131xanov q.\",\"Nardaran q.\",\"N\\u0259simi m.\",\"H\\u0259zi Aslanov q.\",\"\\u0130\\u00e7\\u0259ri \\u015e\\u0259h\\u0259r m.\",\"Xalqlar Dostlu\\u011fu m.\",\"Badamdar q.\",\"Koro\\u011flu m.\",\"Yasamal q.\",\"Yeni G\\u00fcn\\u0259\\u015fli q.\",\"7-ci mikrorayon q.\",\"\\u018fhm\\u0259dli q.\",\"S\\u0259bail r.\",\"Bin\\u0259q\\u0259di r.\",\"D\\u0259rn\\u0259g\\u00fcl m.\",\"Nizami r.\",\"9-cu mikrorayon q.\",\"H\\u00f6vsan q.\",\"Avtova\\u011fzal m.\",\"8-ci mikrorayon q.\",\"Bil\\u0259c\\u0259ri q.\",\"Sahil m.\",\"8-ci kilometr q.\",\"Qara\\u00e7uxur q.\",\"Z\\u0131\\u011f q.\",\"Bin\\u0259q\\u0259di q.\",\"L\\u00f6kbatan q.\",\"Ab\\u015feron r.\",\"Sabun\\u00e7u r.\",\"M\\u0259mm\\u0259dli q.\",\"\\u015e\\u0131xov q.\",\"K\\u00f6hn\\u0259 G\\u00fcn\\u0259\\u015fli q.\",\"Kubinka q.\",\"Mehdiabad q.\",\"Saray q.\",\"Massiv D q.\",\"Suraxan\\u0131 r.\",\"Buzovna q.\",\"Bakmil m.\",\"Ceyranbatan q.\",\"Suraxan\\u0131 q.\",\"Digah q.\",\"Zabrat q.\",\"Sabun\\u00e7u q.\",\"\\u018fmircan q.\",\"A\\u015fa\\u011f\\u0131 G\\u00fczd\\u0259k q.\",\"B\\u00f6y\\u00fck\\u015for q.\",\"Qarada\\u011f r.\",\"Xoc\\u0259s\\u0259n q.\",\"G\\u00fcn\\u0259\\u015fli q.\",\"Xutor q.\",\"X\\u0259z\\u0259r r.\",\"6-c\\u0131 mikrorayon q.\",\"Pirallah\\u0131 r.\",\"Ramana q.\",\"Massiv V q.\",\"Bin\\u0259 q.\",\"G\\u00f6r\\u0259dil q.\",\"2-ci mikrorayon q.\",\"M.\\u018f.R\\u0259sulzad\\u0259 q.\",\"20-ci sah\\u0259 q.\",\"Bibi Heyb\\u0259t q.\",\"5-ci mikrorayon q.\",\"Yeni Ramana q.\",\"Ulduz m.\",\"NZS q.\",\"H\\u00f6km\\u0259li q.\",\"3-c\\u00fc mikrorayon q.\",\"M\\u0259rd\\u0259kan q.\",\"\\u015e\\u00fcv\\u0259lan q.\",\"4-c\\u00fc mikrorayon q.\",\"28 May q.\",\"Novxan\\u0131 q.\",\"Fatmay\\u0131 q.\",\"Bilg\\u0259h q.\",\"Yeni Suraxan\\u0131 q.\",\"B\\u00fclb\\u00fcl\\u0259 q.\",\"Massiv A q.\",\"Massiv G q.\",\"M\\u00fc\\u015ffiqabad q.\",\"1-ci mikrorayon q.\"],\"xaxis\":\"x\",\"y\":[1743,1706,1640,1516,1402,1342,1310,1288,890,881,849,748,723,663,659,626,609,474,428,424,423,333,304,285,275,243,240,237,220,216,176,174,153,152,145,144,111,105,100,99,94,93,91,84,84,51,50,50,50,49,44,37,33,27,19,18,15,14,13,13,13,12,11,9,9,9,8,8,8,8,7,7,6,6,5,5,4,4,4,4,3,3,3,3,2,2,2,2,2,2,2,2,1,1,1,1,1,1,1,1,1,1,1,1],\"yaxis\":\"y\",\"type\":\"bar\",\"texttemplate\":\"%{text}\"}],                        {\"template\":{\"data\":{\"histogram2dcontour\":[{\"type\":\"histogram2dcontour\",\"colorbar\":{\"outlinewidth\":0,\"ticks\":\"\"},\"colorscale\":[[0.0,\"#0d0887\"],[0.1111111111111111,\"#46039f\"],[0.2222222222222222,\"#7201a8\"],[0.3333333333333333,\"#9c179e\"],[0.4444444444444444,\"#bd3786\"],[0.5555555555555556,\"#d8576b\"],[0.6666666666666666,\"#ed7953\"],[0.7777777777777778,\"#fb9f3a\"],[0.8888888888888888,\"#fdca26\"],[1.0,\"#f0f921\"]]}],\"choropleth\":[{\"type\":\"choropleth\",\"colorbar\":{\"outlinewidth\":0,\"ticks\":\"\"}}],\"histogram2d\":[{\"type\":\"histogram2d\",\"colorbar\":{\"outlinewidth\":0,\"ticks\":\"\"},\"colorscale\":[[0.0,\"#0d0887\"],[0.1111111111111111,\"#46039f\"],[0.2222222222222222,\"#7201a8\"],[0.3333333333333333,\"#9c179e\"],[0.4444444444444444,\"#bd3786\"],[0.5555555555555556,\"#d8576b\"],[0.6666666666666666,\"#ed7953\"],[0.7777777777777778,\"#fb9f3a\"],[0.8888888888888888,\"#fdca26\"],[1.0,\"#f0f921\"]]}],\"heatmap\":[{\"type\":\"heatmap\",\"colorbar\":{\"outlinewidth\":0,\"ticks\":\"\"},\"colorscale\":[[0.0,\"#0d0887\"],[0.1111111111111111,\"#46039f\"],[0.2222222222222222,\"#7201a8\"],[0.3333333333333333,\"#9c179e\"],[0.4444444444444444,\"#bd3786\"],[0.5555555555555556,\"#d8576b\"],[0.6666666666666666,\"#ed7953\"],[0.7777777777777778,\"#fb9f3a\"],[0.8888888888888888,\"#fdca26\"],[1.0,\"#f0f921\"]]}],\"heatmapgl\":[{\"type\":\"heatmapgl\",\"colorbar\":{\"outlinewidth\":0,\"ticks\":\"\"},\"colorscale\":[[0.0,\"#0d0887\"],[0.1111111111111111,\"#46039f\"],[0.2222222222222222,\"#7201a8\"],[0.3333333333333333,\"#9c179e\"],[0.4444444444444444,\"#bd3786\"],[0.5555555555555556,\"#d8576b\"],[0.6666666666666666,\"#ed7953\"],[0.7777777777777778,\"#fb9f3a\"],[0.8888888888888888,\"#fdca26\"],[1.0,\"#f0f921\"]]}],\"contourcarpet\":[{\"type\":\"contourcarpet\",\"colorbar\":{\"outlinewidth\":0,\"ticks\":\"\"}}],\"contour\":[{\"type\":\"contour\",\"colorbar\":{\"outlinewidth\":0,\"ticks\":\"\"},\"colorscale\":[[0.0,\"#0d0887\"],[0.1111111111111111,\"#46039f\"],[0.2222222222222222,\"#7201a8\"],[0.3333333333333333,\"#9c179e\"],[0.4444444444444444,\"#bd3786\"],[0.5555555555555556,\"#d8576b\"],[0.6666666666666666,\"#ed7953\"],[0.7777777777777778,\"#fb9f3a\"],[0.8888888888888888,\"#fdca26\"],[1.0,\"#f0f921\"]]}],\"surface\":[{\"type\":\"surface\",\"colorbar\":{\"outlinewidth\":0,\"ticks\":\"\"},\"colorscale\":[[0.0,\"#0d0887\"],[0.1111111111111111,\"#46039f\"],[0.2222222222222222,\"#7201a8\"],[0.3333333333333333,\"#9c179e\"],[0.4444444444444444,\"#bd3786\"],[0.5555555555555556,\"#d8576b\"],[0.6666666666666666,\"#ed7953\"],[0.7777777777777778,\"#fb9f3a\"],[0.8888888888888888,\"#fdca26\"],[1.0,\"#f0f921\"]]}],\"mesh3d\":[{\"type\":\"mesh3d\",\"colorbar\":{\"outlinewidth\":0,\"ticks\":\"\"}}],\"scatter\":[{\"fillpattern\":{\"fillmode\":\"overlay\",\"size\":10,\"solidity\":0.2},\"type\":\"scatter\"}],\"parcoords\":[{\"type\":\"parcoords\",\"line\":{\"colorbar\":{\"outlinewidth\":0,\"ticks\":\"\"}}}],\"scatterpolargl\":[{\"type\":\"scatterpolargl\",\"marker\":{\"colorbar\":{\"outlinewidth\":0,\"ticks\":\"\"}}}],\"bar\":[{\"error_x\":{\"color\":\"#2a3f5f\"},\"error_y\":{\"color\":\"#2a3f5f\"},\"marker\":{\"line\":{\"color\":\"#E5ECF6\",\"width\":0.5},\"pattern\":{\"fillmode\":\"overlay\",\"size\":10,\"solidity\":0.2}},\"type\":\"bar\"}],\"scattergeo\":[{\"type\":\"scattergeo\",\"marker\":{\"colorbar\":{\"outlinewidth\":0,\"ticks\":\"\"}}}],\"scatterpolar\":[{\"type\":\"scatterpolar\",\"marker\":{\"colorbar\":{\"outlinewidth\":0,\"ticks\":\"\"}}}],\"histogram\":[{\"marker\":{\"pattern\":{\"fillmode\":\"overlay\",\"size\":10,\"solidity\":0.2}},\"type\":\"histogram\"}],\"scattergl\":[{\"type\":\"scattergl\",\"marker\":{\"colorbar\":{\"outlinewidth\":0,\"ticks\":\"\"}}}],\"scatter3d\":[{\"type\":\"scatter3d\",\"line\":{\"colorbar\":{\"outlinewidth\":0,\"ticks\":\"\"}},\"marker\":{\"colorbar\":{\"outlinewidth\":0,\"ticks\":\"\"}}}],\"scattermapbox\":[{\"type\":\"scattermapbox\",\"marker\":{\"colorbar\":{\"outlinewidth\":0,\"ticks\":\"\"}}}],\"scatterternary\":[{\"type\":\"scatterternary\",\"marker\":{\"colorbar\":{\"outlinewidth\":0,\"ticks\":\"\"}}}],\"scattercarpet\":[{\"type\":\"scattercarpet\",\"marker\":{\"colorbar\":{\"outlinewidth\":0,\"ticks\":\"\"}}}],\"carpet\":[{\"aaxis\":{\"endlinecolor\":\"#2a3f5f\",\"gridcolor\":\"white\",\"linecolor\":\"white\",\"minorgridcolor\":\"white\",\"startlinecolor\":\"#2a3f5f\"},\"baxis\":{\"endlinecolor\":\"#2a3f5f\",\"gridcolor\":\"white\",\"linecolor\":\"white\",\"minorgridcolor\":\"white\",\"startlinecolor\":\"#2a3f5f\"},\"type\":\"carpet\"}],\"table\":[{\"cells\":{\"fill\":{\"color\":\"#EBF0F8\"},\"line\":{\"color\":\"white\"}},\"header\":{\"fill\":{\"color\":\"#C8D4E3\"},\"line\":{\"color\":\"white\"}},\"type\":\"table\"}],\"barpolar\":[{\"marker\":{\"line\":{\"color\":\"#E5ECF6\",\"width\":0.5},\"pattern\":{\"fillmode\":\"overlay\",\"size\":10,\"solidity\":0.2}},\"type\":\"barpolar\"}],\"pie\":[{\"automargin\":true,\"type\":\"pie\"}]},\"layout\":{\"autotypenumbers\":\"strict\",\"colorway\":[\"#636efa\",\"#EF553B\",\"#00cc96\",\"#ab63fa\",\"#FFA15A\",\"#19d3f3\",\"#FF6692\",\"#B6E880\",\"#FF97FF\",\"#FECB52\"],\"font\":{\"color\":\"#2a3f5f\"},\"hovermode\":\"closest\",\"hoverlabel\":{\"align\":\"left\"},\"paper_bgcolor\":\"white\",\"plot_bgcolor\":\"#E5ECF6\",\"polar\":{\"bgcolor\":\"#E5ECF6\",\"angularaxis\":{\"gridcolor\":\"white\",\"linecolor\":\"white\",\"ticks\":\"\"},\"radialaxis\":{\"gridcolor\":\"white\",\"linecolor\":\"white\",\"ticks\":\"\"}},\"ternary\":{\"bgcolor\":\"#E5ECF6\",\"aaxis\":{\"gridcolor\":\"white\",\"linecolor\":\"white\",\"ticks\":\"\"},\"baxis\":{\"gridcolor\":\"white\",\"linecolor\":\"white\",\"ticks\":\"\"},\"caxis\":{\"gridcolor\":\"white\",\"linecolor\":\"white\",\"ticks\":\"\"}},\"coloraxis\":{\"colorbar\":{\"outlinewidth\":0,\"ticks\":\"\"}},\"colorscale\":{\"sequential\":[[0.0,\"#0d0887\"],[0.1111111111111111,\"#46039f\"],[0.2222222222222222,\"#7201a8\"],[0.3333333333333333,\"#9c179e\"],[0.4444444444444444,\"#bd3786\"],[0.5555555555555556,\"#d8576b\"],[0.6666666666666666,\"#ed7953\"],[0.7777777777777778,\"#fb9f3a\"],[0.8888888888888888,\"#fdca26\"],[1.0,\"#f0f921\"]],\"sequentialminus\":[[0.0,\"#0d0887\"],[0.1111111111111111,\"#46039f\"],[0.2222222222222222,\"#7201a8\"],[0.3333333333333333,\"#9c179e\"],[0.4444444444444444,\"#bd3786\"],[0.5555555555555556,\"#d8576b\"],[0.6666666666666666,\"#ed7953\"],[0.7777777777777778,\"#fb9f3a\"],[0.8888888888888888,\"#fdca26\"],[1.0,\"#f0f921\"]],\"diverging\":[[0,\"#8e0152\"],[0.1,\"#c51b7d\"],[0.2,\"#de77ae\"],[0.3,\"#f1b6da\"],[0.4,\"#fde0ef\"],[0.5,\"#f7f7f7\"],[0.6,\"#e6f5d0\"],[0.7,\"#b8e186\"],[0.8,\"#7fbc41\"],[0.9,\"#4d9221\"],[1,\"#276419\"]]},\"xaxis\":{\"gridcolor\":\"white\",\"linecolor\":\"white\",\"ticks\":\"\",\"title\":{\"standoff\":15},\"zerolinecolor\":\"white\",\"automargin\":true,\"zerolinewidth\":2},\"yaxis\":{\"gridcolor\":\"white\",\"linecolor\":\"white\",\"ticks\":\"\",\"title\":{\"standoff\":15},\"zerolinecolor\":\"white\",\"automargin\":true,\"zerolinewidth\":2},\"scene\":{\"xaxis\":{\"backgroundcolor\":\"#E5ECF6\",\"gridcolor\":\"white\",\"linecolor\":\"white\",\"showbackground\":true,\"ticks\":\"\",\"zerolinecolor\":\"white\",\"gridwidth\":2},\"yaxis\":{\"backgroundcolor\":\"#E5ECF6\",\"gridcolor\":\"white\",\"linecolor\":\"white\",\"showbackground\":true,\"ticks\":\"\",\"zerolinecolor\":\"white\",\"gridwidth\":2},\"zaxis\":{\"backgroundcolor\":\"#E5ECF6\",\"gridcolor\":\"white\",\"linecolor\":\"white\",\"showbackground\":true,\"ticks\":\"\",\"zerolinecolor\":\"white\",\"gridwidth\":2}},\"shapedefaults\":{\"line\":{\"color\":\"#2a3f5f\"}},\"annotationdefaults\":{\"arrowcolor\":\"#2a3f5f\",\"arrowhead\":0,\"arrowwidth\":1},\"geo\":{\"bgcolor\":\"white\",\"landcolor\":\"#E5ECF6\",\"subunitcolor\":\"white\",\"showland\":true,\"showlakes\":true,\"lakecolor\":\"white\"},\"title\":{\"x\":0.05},\"mapbox\":{\"style\":\"light\"}}},\"xaxis\":{\"anchor\":\"y\",\"domain\":[0.0,1.0],\"title\":{\"text\":\"\\u018frazi\"},\"tickangle\":-45},\"yaxis\":{\"anchor\":\"x\",\"domain\":[0.0,1.0],\"title\":{\"text\":\"M\\u0259nzill\\u0259rin say\\u0131\"}},\"coloraxis\":{\"colorbar\":{\"title\":{\"text\":\"M\\u0259nzill\\u0259rin say\\u0131\"}},\"colorscale\":[[0.0,\"#0d0887\"],[0.1111111111111111,\"#46039f\"],[0.2222222222222222,\"#7201a8\"],[0.3333333333333333,\"#9c179e\"],[0.4444444444444444,\"#bd3786\"],[0.5555555555555556,\"#d8576b\"],[0.6666666666666666,\"#ed7953\"],[0.7777777777777778,\"#fb9f3a\"],[0.8888888888888888,\"#fdca26\"],[1.0,\"#f0f921\"]]},\"legend\":{\"tracegroupgap\":0},\"title\":{\"text\":\"\\u018fraziy\\u0259 g\\u00f6r\\u0259 m\\u0259nzill\\u0259rin say\\u0131 ortalama qiym\\u0259ti v\\u0259 t\\u0259mir statusu\"},\"barmode\":\"relative\",\"width\":1000,\"height\":1000},                        {\"responsive\": true}                    ).then(function(){\n",
       "                            \n",
       "var gd = document.getElementById('e4bbd6cf-76d3-460f-8bbe-61a793d8f3e3');\n",
       "var x = new MutationObserver(function (mutations, observer) {{\n",
       "        var display = window.getComputedStyle(gd).display;\n",
       "        if (!display || display === 'none') {{\n",
       "            console.log([gd, 'removed!']);\n",
       "            Plotly.purge(gd);\n",
       "            observer.disconnect();\n",
       "        }}\n",
       "}});\n",
       "\n",
       "// Listen for the removal of the full notebook cells\n",
       "var notebookContainer = gd.closest('#notebook-container');\n",
       "if (notebookContainer) {{\n",
       "    x.observe(notebookContainer, {childList: true});\n",
       "}}\n",
       "\n",
       "// Listen for the clearing of the current output cell\n",
       "var outputEl = gd.closest('.output');\n",
       "if (outputEl) {{\n",
       "    x.observe(outputEl, {childList: true});\n",
       "}}\n",
       "\n",
       "                        })                };                });            </script>        </div>"
      ]
     },
     "metadata": {},
     "output_type": "display_data"
    }
   ],
   "source": [
    "#Bar graph to show number of apartments and their condition status when hover \n",
    "\n",
    "new_df=final_df.groupby('Location',as_index=False)['Condition'].value_counts()\n",
    "\n",
    "average_df=final_df.groupby('Location', as_index=False)['Price'].median()\n",
    "\n",
    "# Pivot the DataFrame to get counts for each condition\n",
    "pivot_df = new_df.pivot_table(\n",
    "    index='Location',    \n",
    "    columns='Condition',\n",
    "    values='count',\n",
    "    fill_value=0\n",
    ")\n",
    "\n",
    "# Rename columns for clarity                 \n",
    "pivot_df.columns = ['Təmirli', 'Təmirsiz']   \n",
    "\n",
    "# Add a Total column\n",
    "pivot_df['Total'] = pivot_df['Təmirli'] + pivot_df['Təmirsiz'] \n",
    "\n",
    "merged_df = pd.merge(average_df, pivot_df, on='Location')\n",
    "\n",
    "\n",
    "merged_df[['Təmirli','Təmirsiz','Total']]= merged_df[['Təmirli','Təmirsiz','Total']].astype(int)\n",
    "                                                                 \n",
    "# Reset index to turn the location into a column again              \n",
    "merged_df.reset_index(inplace=True)\n",
    "\n",
    "# Sort DataFrame by 'Total' in ascending order\n",
    "pivot_sorted_df = merged_df.sort_values(by='Total',ascending=False)\n",
    "\n",
    "\n",
    "fig = px.bar(\n",
    "    pivot_sorted_df, \n",
    "    x='Location', \n",
    "    y='Total', \n",
    "    text='Total',  # Add text labels to bars\n",
    "    title='Əraziyə görə mənzillərin sayı ortalama qiyməti və təmir statusu',\n",
    "    labels={'Location': 'Ərazi','Total': 'Mənzillərin sayı','Price':'Ortalama qiymət'},  # Axis label customization\n",
    "    color='Total', \n",
    "    hover_data={\n",
    "        'Location': True,  # Display location on hover\n",
    "        'Təmirli': True,   # Display Təmirli count on hover\n",
    "        'Price': True,  # Display Təmirsiz count on hover\n",
    "        'Total': True       # Display Total count on hover\n",
    "    }\n",
    ")\n",
    "\n",
    "# Customize the layout\n",
    "fig.update_layout(\n",
    "    xaxis_title='Ərazi',\n",
    "    yaxis_title='Mənzillərin sayı',\n",
    "    xaxis_tickangle=-45,  # Tilt the x-axis labels if they are long\n",
    "    width=1000,\n",
    "    height=1000\n",
    ")\n",
    "\n",
    "# Add text labels on bars\n",
    "fig.update_traces(texttemplate='%{text}', textposition='outside')\n",
    "\n"
   ]
  },
  {
   "cell_type": "markdown",
   "id": "5454a16c-8efd-4d46-8a3c-9395810da524",
   "metadata": {},
   "source": [
    "This code generates an interactive scatter plot to visualize the relationship between apartment price and area for a selected location. The points are color-coded by condition (e.g., renovated or unrenovated), with hover labels displaying additional details like document status. The trendline feature is included to highlight the overall trend. A dropdown widget allows users to select a specific location, dynamically updating the plot for exploratory analysis."
   ]
  },
  {
   "cell_type": "code",
   "execution_count": 14,
   "id": "d3811fbf-7b7e-485c-915b-d36ebd407728",
   "metadata": {},
   "outputs": [
    {
     "data": {
      "application/vnd.jupyter.widget-view+json": {
       "model_id": "a5c1b5aaaed14473a6a5aab2c6056744",
       "version_major": 2,
       "version_minor": 0
      },
      "text/plain": [
       "interactive(children=(Dropdown(description='Location:', options=('Nardaran q.', 'Həzi Aslanov m.', 'İçəri Şəhə…"
      ]
     },
     "metadata": {},
     "output_type": "display_data"
    },
    {
     "data": {
      "text/plain": [
       "<function __main__.scatter_plot(location)>"
      ]
     },
     "execution_count": 14,
     "metadata": {},
     "output_type": "execute_result"
    }
   ],
   "source": [
    "#Scatter plot Price versus Area based on location\n",
    "\n",
    "\n",
    "\n",
    "def scatter_plot(location):\n",
    "    \n",
    "    filtered_df_scatter_plot = final_df[final_df['Location'] == location]\n",
    "    fig = px.scatter(\n",
    "        filtered_df_scatter_plot,\n",
    "        x='Area', \n",
    "        y='Price',\n",
    "        color='Condition',\n",
    "        labels={'Area':'Mənzilin sahəsi (mˆ2)', 'Price':'Mənzilin qiymeti (AZN)', 'Condition':'Təmir statusu', 'Document status':'Mənzilin sənədi'},\n",
    "        hover_data=['Price','Area', 'Condition', 'Document status'],\n",
    "        #symbol=\"Document status\",\n",
    "        #size= 20,\n",
    "        title='Əraziyə əsasən mənzilin sahəsi ilə qiyməti arasındakı əlaqə',\n",
    "        width=1000,\n",
    "        height=600,\n",
    "        trendline=\"ols\"\n",
    "        #trendline_scope=\"overall\"\n",
    "    )\n",
    "    \n",
    "    fig.show()\n",
    "\n",
    "\n",
    "location_dropdown = widgets.Dropdown(\n",
    "    options=final_df['Location'].unique(),\n",
    "    description='Location:',\n",
    "    disabled=False\n",
    ")\n",
    "\n",
    "\n",
    "interact(scatter_plot, location=location_dropdown)\n",
    "\n"
   ]
  },
  {
   "cell_type": "markdown",
   "id": "2c7ca9fd-46b3-4965-bff9-9a2c7cbe3523",
   "metadata": {},
   "source": [
    "This code generates an interactive box plot to compare apartment prices based on the number of rooms for a selected location. The plot is color-coded by document status, providing additional insights into property legality or ownership. Hover labels display detailed information such as price, room number, and document status. A dropdown widget allows users to select a specific location, dynamically updating the box plot to explore variations in price distribution across room categories."
   ]
  },
  {
   "cell_type": "code",
   "execution_count": 15,
   "id": "41aba8d5-2b49-4a0f-8d8e-1828f6a1d9e4",
   "metadata": {},
   "outputs": [
    {
     "data": {
      "application/vnd.jupyter.widget-view+json": {
       "model_id": "16b5a78617394bc2bb9a67343e0dbcc9",
       "version_major": 2,
       "version_minor": 0
      },
      "text/plain": [
       "interactive(children=(Dropdown(description='Location:', index=7, options=('Nardaran q.', 'Həzi Aslanov m.', 'İ…"
      ]
     },
     "metadata": {},
     "output_type": "display_data"
    },
    {
     "data": {
      "text/plain": [
       "<function __main__.box_plot(location)>"
      ]
     },
     "execution_count": 15,
     "metadata": {},
     "output_type": "execute_result"
    }
   ],
   "source": [
    "\n",
    "def box_plot(location):\n",
    "    filtered_df_box_plot = final_df[final_df['Location'] == location]\n",
    "    \n",
    "    fig = px.box(filtered_df_box_plot,\n",
    "                 \n",
    "                 x=\"Room number\", \n",
    "                 y=\"Price\", \n",
    "                 points=\"all\", \n",
    "                 width=1000,\n",
    "                 height=1000,\n",
    "                 title='Seçilmiş ərazidə otaq sayı ilə qiymət qarşılaşdırması',\n",
    "                 color='Document status',\n",
    "                 labels={'Room number': 'Otaq sayı','Price':'Qiymət', 'Document status':'Sənəd növü'}\n",
    "\n",
    "                )\n",
    "    fig.show()\n",
    "\n",
    "Locations=widgets.Dropdown(\n",
    "    options=final_df['Location'].unique(),\n",
    "    description='Location:',\n",
    "    disabled=False\n",
    ")\n",
    "\n",
    "interact(box_plot, location=location_dropdown)\n",
    "\n"
   ]
  },
  {
   "cell_type": "code",
   "execution_count": null,
   "id": "12017c3c-6f8b-4fa9-b51f-eb71928f12f4",
   "metadata": {},
   "outputs": [],
   "source": []
  }
 ],
 "metadata": {
  "kernelspec": {
   "display_name": "Python 3 (ipykernel)",
   "language": "python",
   "name": "python3"
  },
  "language_info": {
   "codemirror_mode": {
    "name": "ipython",
    "version": 3
   },
   "file_extension": ".py",
   "mimetype": "text/x-python",
   "name": "python",
   "nbconvert_exporter": "python",
   "pygments_lexer": "ipython3",
   "version": "3.11.7"
  }
 },
 "nbformat": 4,
 "nbformat_minor": 5
}
